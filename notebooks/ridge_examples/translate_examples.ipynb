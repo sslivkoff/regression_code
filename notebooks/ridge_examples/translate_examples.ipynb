{
 "cells": [
  {
   "cell_type": "markdown",
   "metadata": {
    "ExecuteTime": {
     "end_time": "2016-08-29T18:51:15.943843",
     "start_time": "2016-08-29T18:51:15.939130"
    }
   },
   "source": [
    "# examples of translated apis"
   ]
  },
  {
   "cell_type": "code",
   "execution_count": 1,
   "metadata": {
    "ExecuteTime": {
     "end_time": "2016-08-29T19:45:25.362825",
     "start_time": "2016-08-29T19:45:24.881174"
    },
    "collapsed": false
   },
   "outputs": [],
   "source": [
    "from __future__ import print_function\n",
    "\n",
    "import numpy as np\n",
    "\n",
    "from regression_code.storm.ridge import translate\n",
    "from regression_code.storm.tests import test_datasets\n",
    "\n",
    "from regression_code import huth\n",
    "from regression_code import aone"
   ]
  },
  {
   "cell_type": "markdown",
   "metadata": {
    "ExecuteTime": {
     "end_time": "2016-08-29T18:26:03.758088",
     "start_time": "2016-08-29T18:26:03.755370"
    }
   },
   "source": [
    "# load example dataset"
   ]
  },
  {
   "cell_type": "code",
   "execution_count": 2,
   "metadata": {
    "ExecuteTime": {
     "end_time": "2016-08-29T19:45:25.538264",
     "start_time": "2016-08-29T19:45:25.363893"
    },
    "collapsed": false,
    "scrolled": true
   },
   "outputs": [
    {
     "name": "stdout",
     "output_type": "stream",
     "text": [
      "Xtrain (400, 1600)\n",
      "Ytrain (400, 10000)\n",
      "Xtest (400, 1600)\n",
      "Ytest (400, 10000)\n"
     ]
    }
   ],
   "source": [
    "# dataset = test_datasets.load_natural_movies()['natural_movies_gabor_pyramid']\n",
    "dataset = test_datasets.create_random_datasets('small')['random_data_0']\n",
    "dataset = test_datasets.preprocess_dataset(**dataset)\n",
    "\n",
    "Xtrain = dataset['Xtrain']\n",
    "Ytrain = dataset['Ytrain']\n",
    "Xtest = dataset['Xtest']\n",
    "Ytest = dataset['Ytest']\n",
    "\n",
    "print('Xtrain', Xtrain.shape)\n",
    "print('Ytrain', Ytrain.shape)\n",
    "print('Xtest', Xtest.shape)\n",
    "print('Ytest', Ytest.shape)"
   ]
  },
  {
   "cell_type": "markdown",
   "metadata": {
    "ExecuteTime": {
     "end_time": "2016-08-29T18:43:52.054099",
     "start_time": "2016-08-29T18:43:52.051328"
    }
   },
   "source": [
    "# parameters"
   ]
  },
  {
   "cell_type": "code",
   "execution_count": 3,
   "metadata": {
    "ExecuteTime": {
     "end_time": "2016-08-29T19:45:25.541134",
     "start_time": "2016-08-29T19:45:25.539109"
    },
    "collapsed": false
   },
   "outputs": [],
   "source": [
    "ridges = np.logspace(0, 3, 4)\n",
    "n_folds = 3\n",
    "len_blocks = 10\n",
    "training_fraction = .8"
   ]
  },
  {
   "cell_type": "markdown",
   "metadata": {
    "ExecuteTime": {
     "end_time": "2016-08-29T18:34:56.524100",
     "start_time": "2016-08-29T18:34:56.522736"
    }
   },
   "source": [
    "# huth api"
   ]
  },
  {
   "cell_type": "markdown",
   "metadata": {
    "ExecuteTime": {
     "end_time": "2016-08-29T19:22:03.810640",
     "start_time": "2016-08-29T19:22:03.807944"
    }
   },
   "source": [
    "### huth.ridge.ridge_corr"
   ]
  },
  {
   "cell_type": "code",
   "execution_count": 4,
   "metadata": {
    "ExecuteTime": {
     "end_time": "2016-08-29T19:45:26.207638",
     "start_time": "2016-08-29T19:45:25.542066"
    },
    "collapsed": false
   },
   "outputs": [
    {
     "name": "stdout",
     "output_type": "stream",
     "text": [
      "list [4]\n",
      "- ndarray (10000,)\n",
      "- ndarray (10000,)\n",
      "- ndarray (10000,)\n",
      "- ndarray (10000,)\n"
     ]
    }
   ],
   "source": [
    "results = translate.ridge_corr(\n",
    "    Xtrain,\n",
    "    Xtest,\n",
    "    Ytrain,\n",
    "    Ytest,\n",
    "    alphas=ridges,\n",
    "    verbose=0,\n",
    ")\n",
    "\n",
    "rprint(results)"
   ]
  },
  {
   "cell_type": "code",
   "execution_count": 5,
   "metadata": {
    "ExecuteTime": {
     "end_time": "2016-08-29T19:45:26.684019",
     "start_time": "2016-08-29T19:45:26.208773"
    },
    "collapsed": false
   },
   "outputs": [
    {
     "name": "stdout",
     "output_type": "stream",
     "text": [
      "list [4]\n",
      "- ndarray (10000,)\n",
      "- ndarray (10000,)\n",
      "- ndarray (10000,)\n",
      "- ndarray (10000,)\n"
     ]
    }
   ],
   "source": [
    "results = huth.ridge.ridge_corr(\n",
    "    Xtrain,\n",
    "    Xtest,\n",
    "    Ytrain,\n",
    "    Ytest,\n",
    "    alphas=ridges\n",
    ")\n",
    "\n",
    "rprint(results)"
   ]
  },
  {
   "cell_type": "markdown",
   "metadata": {
    "ExecuteTime": {
     "end_time": "2016-08-29T19:22:13.850278",
     "start_time": "2016-08-29T19:22:13.847536"
    }
   },
   "source": [
    "### huth.ridge.bootstrap_ridge"
   ]
  },
  {
   "cell_type": "code",
   "execution_count": 6,
   "metadata": {
    "ExecuteTime": {
     "end_time": "2016-08-29T19:45:27.532369",
     "start_time": "2016-08-29T19:45:26.685145"
    },
    "collapsed": false
   },
   "outputs": [
    {
     "name": "stdout",
     "output_type": "stream",
     "text": [
      "tuple [5]\n",
      "- ndarray (1600, 10000)\n",
      "- ndarray (10000,)\n",
      "- ndarray (10000,)\n",
      "- ndarray (4, 10000, 3)\n",
      "- ndarray (0,)\n",
      "    []\n"
     ]
    }
   ],
   "source": [
    "results = translate.bootstrap_ridge(\n",
    "    Rstim=Xtrain,\n",
    "    Pstim=Xtest,\n",
    "    Rresp=Ytrain,\n",
    "    Presp=Ytest,\n",
    "    alphas=ridges,\n",
    "    nboots=n_folds,\n",
    "    chunklen=len_blocks,\n",
    "    nchunks=int(Xtrain.shape[0] * training_fraction / len_blocks),\n",
    "    verbose=0,\n",
    ")\n",
    "\n",
    "rprint(results)"
   ]
  },
  {
   "cell_type": "code",
   "execution_count": 7,
   "metadata": {
    "ExecuteTime": {
     "end_time": "2016-08-29T19:45:29.143821",
     "start_time": "2016-08-29T19:45:27.533497"
    },
    "collapsed": false
   },
   "outputs": [
    {
     "name": "stdout",
     "output_type": "stream",
     "text": [
      "tuple [5]\n",
      "- ndarray (1600, 10000)\n",
      "- ndarray (10000,)\n",
      "- ndarray (10000,)\n",
      "- ndarray (4, 10000, 3)\n",
      "- list [3]\n",
      "    - list [320]\n",
      "    - list [320]\n",
      "    - list [320]\n"
     ]
    }
   ],
   "source": [
    "results = huth.ridge.bootstrap_ridge(\n",
    "    Rstim=Xtrain,\n",
    "    Pstim=Xtest,\n",
    "    Rresp=Ytrain,\n",
    "    Presp=Ytest,\n",
    "    alphas=ridges,\n",
    "    nboots=n_folds,\n",
    "    chunklen=len_blocks,\n",
    "    nchunks=int(Xtrain.shape[0] * training_fraction / len_blocks),\n",
    ")\n",
    "\n",
    "rprint(results)"
   ]
  },
  {
   "cell_type": "markdown",
   "metadata": {
    "ExecuteTime": {
     "end_time": "2016-08-29T19:08:41.319552",
     "start_time": "2016-08-29T19:08:41.317744"
    }
   },
   "source": [
    "# aone api"
   ]
  },
  {
   "cell_type": "markdown",
   "metadata": {
    "ExecuteTime": {
     "end_time": "2016-08-29T19:22:27.147546",
     "start_time": "2016-08-29T19:22:27.145034"
    }
   },
   "source": [
    "### aone.models.solve_l2"
   ]
  },
  {
   "cell_type": "code",
   "execution_count": 8,
   "metadata": {
    "ExecuteTime": {
     "end_time": "2016-08-29T19:45:29.477302",
     "start_time": "2016-08-29T19:45:29.144599"
    },
    "collapsed": false
   },
   "outputs": [
    {
     "name": "stdout",
     "output_type": "stream",
     "text": [
      "dict [3]\n",
      "- 'performance': ndarray (1, 10000)\n",
      "- 'predictions': ndarray (1, 400, 10000)\n",
      "- 'weights': ndarray (1, 1600, 10000)\n"
     ]
    }
   ],
   "source": [
    "results = translate.solve_l2(\n",
    "    Xtrain,\n",
    "    Ytrain,\n",
    "    Xtest,\n",
    "    Ytest,\n",
    "    ridge=ridges[0],\n",
    "    verbose=0,\n",
    "    weights=True,\n",
    "    predictions=True,\n",
    "    performance=True,\n",
    ")\n",
    "\n",
    "rprint(results)"
   ]
  },
  {
   "cell_type": "code",
   "execution_count": 9,
   "metadata": {
    "ExecuteTime": {
     "end_time": "2016-08-29T19:45:29.867181",
     "start_time": "2016-08-29T19:45:29.478492"
    },
    "collapsed": false
   },
   "outputs": [
    {
     "name": "stdout",
     "output_type": "stream",
     "text": [
      "dict [3]\n",
      "- 'performance': ndarray (1, 10000)\n",
      "- 'predictions': ndarray (400, 10000)\n",
      "- 'weights': ndarray (1600, 10000)\n"
     ]
    }
   ],
   "source": [
    "results = aone.models.solve_l2(\n",
    "    Xtrain,\n",
    "    Ytrain,\n",
    "    Xtest,\n",
    "    Ytest,\n",
    "    ridge=ridges[0],\n",
    "    verbose=0,\n",
    "    weights=True,\n",
    "    predictions=True,\n",
    "    performance=True,\n",
    ")\n",
    "\n",
    "rprint(results)"
   ]
  },
  {
   "cell_type": "markdown",
   "metadata": {
    "ExecuteTime": {
     "end_time": "2016-08-29T19:22:35.491567",
     "start_time": "2016-08-29T19:22:35.490081"
    }
   },
   "source": [
    "### aone.models.solve_l2_primal"
   ]
  },
  {
   "cell_type": "code",
   "execution_count": 10,
   "metadata": {
    "ExecuteTime": {
     "end_time": "2016-08-29T19:45:30.245070",
     "start_time": "2016-08-29T19:45:29.869478"
    },
    "collapsed": false
   },
   "outputs": [
    {
     "name": "stdout",
     "output_type": "stream",
     "text": [
      "dict [2]\n",
      "- 'performance': ndarray (4, 10000)\n",
      "- 'predictions': ndarray (4, 400, 10000)\n"
     ]
    }
   ],
   "source": [
    "results = translate.solve_l2_primal(\n",
    "    Xtrain,\n",
    "    Ytrain,\n",
    "    Xtest,\n",
    "    Ytest,\n",
    "    ridges=ridges,\n",
    "    verbose=0,\n",
    "    weights=False,\n",
    "    predictions=True,\n",
    "    performance=True,\n",
    ")\n",
    "\n",
    "rprint(results)"
   ]
  },
  {
   "cell_type": "code",
   "execution_count": 11,
   "metadata": {
    "ExecuteTime": {
     "end_time": "2016-08-29T19:45:30.722311",
     "start_time": "2016-08-29T19:45:30.246266"
    },
    "collapsed": false
   },
   "outputs": [
    {
     "name": "stdout",
     "output_type": "stream",
     "text": [
      "dict [2]\n",
      "- 'performance': ndarray (4, 10000)\n",
      "- 'predictions': ndarray (4, 400, 10000)\n"
     ]
    }
   ],
   "source": [
    "results = aone.models.solve_l2_primal(\n",
    "    Xtrain,\n",
    "    Ytrain,\n",
    "    Xtest,\n",
    "    Ytest,\n",
    "    ridges=ridges,\n",
    "    verbose=0,\n",
    "    weights=False,\n",
    "    predictions=True,\n",
    "    performance=True,\n",
    ")\n",
    "\n",
    "rprint(results)"
   ]
  },
  {
   "cell_type": "markdown",
   "metadata": {
    "ExecuteTime": {
     "end_time": "2016-08-29T19:22:43.029983",
     "start_time": "2016-08-29T19:22:43.027509"
    }
   },
   "source": [
    "### aone.models.solve_l2_dual"
   ]
  },
  {
   "cell_type": "code",
   "execution_count": 12,
   "metadata": {
    "ExecuteTime": {
     "end_time": "2016-08-29T19:45:31.033448",
     "start_time": "2016-08-29T19:45:30.723731"
    },
    "collapsed": false
   },
   "outputs": [
    {
     "name": "stdout",
     "output_type": "stream",
     "text": [
      "dict [2]\n",
      "- 'performance': ndarray (4, 10000)\n",
      "- 'predictions': ndarray (4, 400, 10000)\n"
     ]
    }
   ],
   "source": [
    "results = translate.solve_l2_dual(\n",
    "    Ktrain=Xtrain.dot(Xtrain.T),\n",
    "    Ytrain=Ytrain,\n",
    "    Kval=Xtest.dot(Xtrain.T),\n",
    "    Yval=Ytest,\n",
    "    ridges=ridges,\n",
    "    verbose=0,\n",
    "    weights=False,\n",
    "    predictions=True,\n",
    "    performance=True,\n",
    ")\n",
    "\n",
    "rprint(results)"
   ]
  },
  {
   "cell_type": "code",
   "execution_count": 13,
   "metadata": {
    "ExecuteTime": {
     "end_time": "2016-08-29T19:45:31.447232",
     "start_time": "2016-08-29T19:45:31.034647"
    },
    "collapsed": false,
    "scrolled": true
   },
   "outputs": [
    {
     "name": "stdout",
     "output_type": "stream",
     "text": [
      "dict [2]\n",
      "- 'performance': ndarray (4, 10000)\n",
      "- 'predictions': ndarray (4, 400, 10000)\n"
     ]
    }
   ],
   "source": [
    "results = aone.models.solve_l2_dual(\n",
    "    Ktrain=Xtrain.dot(Xtrain.T),\n",
    "    Ytrain=Ytrain,\n",
    "    Kval=Xtest.dot(Xtrain.T),\n",
    "    Yval=Ytest,\n",
    "    ridges=ridges,\n",
    "    verbose=0,\n",
    "    weights=False,\n",
    "    predictions=True,\n",
    "    performance=True,\n",
    ")\n",
    "\n",
    "rprint(results)"
   ]
  },
  {
   "cell_type": "markdown",
   "metadata": {
    "ExecuteTime": {
     "end_time": "2016-08-29T19:22:52.364874",
     "start_time": "2016-08-29T19:22:52.362338"
    }
   },
   "source": [
    "### aone.models.cvridge"
   ]
  },
  {
   "cell_type": "code",
   "execution_count": 14,
   "metadata": {
    "ExecuteTime": {
     "end_time": "2016-08-29T19:45:32.878158",
     "start_time": "2016-08-29T19:45:31.448230"
    },
    "collapsed": false
   },
   "outputs": [
    {
     "name": "stdout",
     "output_type": "stream",
     "text": [
      "dict [4]\n",
      "- 'cvresults': ndarray (5, 1, 4, 10000)\n",
      "- 'performance': ndarray (1, 10000)\n",
      "- 'predictions': ndarray (400, 10000)\n",
      "- 'weights': ndarray (1600, 10000)\n"
     ]
    }
   ],
   "source": [
    "results = translate.cvridge(\n",
    "    Xtrain=Xtrain,\n",
    "    Ytrain=Ytrain,\n",
    "    Xtest=Xtest,\n",
    "    Ytest=Ytest,\n",
    "    ridges=ridges,\n",
    "    verbose=0,\n",
    "    weights=True,\n",
    "    predictions=True,\n",
    "    performance=True,\n",
    ")\n",
    "\n",
    "rprint(results)"
   ]
  },
  {
   "cell_type": "code",
   "execution_count": 15,
   "metadata": {
    "ExecuteTime": {
     "end_time": "2016-08-29T19:45:33.863752",
     "start_time": "2016-08-29T19:45:32.879432"
    },
    "collapsed": false,
    "scrolled": true
   },
   "outputs": [
    {
     "name": "stdout",
     "output_type": "stream",
     "text": [
      "dict [4]\n",
      "- 'cvresults': ndarray (5, 1, 4, 10000)\n",
      "- 'performance': ndarray (1, 10000)\n",
      "- 'predictions': ndarray (400, 10000)\n",
      "- 'weights': ndarray (1600, 10000)\n"
     ]
    }
   ],
   "source": [
    "results = aone.models.cvridge(\n",
    "    Xtrain=Xtrain,\n",
    "    Ytrain=Ytrain,\n",
    "    Xtest=Xtest,\n",
    "    Ytest=Ytest,\n",
    "    ridges=ridges,\n",
    "    verbose=0,\n",
    "    weights=True,\n",
    "    predictions=True,\n",
    "    performance=True,\n",
    ")\n",
    "\n",
    "rprint(results)"
   ]
  },
  {
   "cell_type": "markdown",
   "metadata": {
    "ExecuteTime": {
     "end_time": "2016-08-29T19:33:57.172197",
     "start_time": "2016-08-29T19:33:57.169731"
    }
   },
   "source": [
    "### aone.models.kernel_cvridge"
   ]
  },
  {
   "cell_type": "code",
   "execution_count": 16,
   "metadata": {
    "ExecuteTime": {
     "end_time": "2016-08-29T19:45:34.614471",
     "start_time": "2016-08-29T19:45:33.864899"
    },
    "collapsed": false
   },
   "outputs": [
    {
     "name": "stdout",
     "output_type": "stream",
     "text": [
      "dict [3]\n",
      "- 'cvresults': ndarray (5, 4, 10000)\n",
      "- 'performance': ndarray (1, 10000)\n",
      "- 'predictions': ndarray (400, 10000)\n"
     ]
    }
   ],
   "source": [
    "results = translate.kernel_cvridge(\n",
    "    Ktrain=Xtrain.dot(Xtrain.T),\n",
    "    Ytrain=Ytrain,\n",
    "    Ktest=Xtest.dot(Xtrain.T),\n",
    "    Ytest=Ytest,\n",
    "    ridges=ridges,\n",
    "    verbose=0,\n",
    "    weights=False,\n",
    "    predictions=True,\n",
    "    performance=True,\n",
    ")\n",
    "\n",
    "rprint(results)"
   ]
  },
  {
   "cell_type": "code",
   "execution_count": 17,
   "metadata": {
    "ExecuteTime": {
     "end_time": "2016-08-29T19:45:35.414006",
     "start_time": "2016-08-29T19:45:34.615671"
    },
    "collapsed": false
   },
   "outputs": [
    {
     "name": "stdout",
     "output_type": "stream",
     "text": [
      "dict [3]\n",
      "- 'cvresults': ndarray (5, 4, 10000)\n",
      "- 'performance': ndarray (1, 10000)\n",
      "- 'predictions': ndarray (400, 10000)\n"
     ]
    }
   ],
   "source": [
    "results = aone.models.kernel_cvridge(\n",
    "    Ktrain=Xtrain.dot(Xtrain.T),\n",
    "    Ytrain=Ytrain,\n",
    "    Ktest=Xtest.dot(Xtrain.T),\n",
    "    Ytest=Ytest,\n",
    "    ridges=ridges,\n",
    "    verbose=0,\n",
    "    weights=False,\n",
    "    predictions=True,\n",
    "    performance=True,\n",
    ")\n",
    "\n",
    "rprint(results)"
   ]
  }
 ],
 "metadata": {
  "hide_input": false,
  "kernelspec": {
   "display_name": "Python 2",
   "language": "python",
   "name": "python2"
  },
  "language_info": {
   "codemirror_mode": {
    "name": "ipython",
    "version": 2
   },
   "file_extension": ".py",
   "mimetype": "text/x-python",
   "name": "python",
   "nbconvert_exporter": "python",
   "pygments_lexer": "ipython2",
   "version": "2.7.6"
  }
 },
 "nbformat": 4,
 "nbformat_minor": 0
}
