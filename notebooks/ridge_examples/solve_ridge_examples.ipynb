{
 "cells": [
  {
   "cell_type": "markdown",
   "metadata": {
    "ExecuteTime": {
     "end_time": "2016-08-26T20:13:35.030027",
     "start_time": "2016-08-26T20:13:35.027361"
    }
   },
   "source": [
    "# overview of solve_ridge() usage"
   ]
  },
  {
   "cell_type": "code",
   "execution_count": 1,
   "metadata": {
    "ExecuteTime": {
     "end_time": "2016-08-26T20:15:25.037384",
     "start_time": "2016-08-26T20:15:24.317775"
    },
    "collapsed": false
   },
   "outputs": [],
   "source": [
    "from __future__ import print_function\n",
    "\n",
    "import numpy as np\n",
    "\n",
    "from regression_code.storm import ridge\n",
    "from regression_code.storm.tests import test_datasets\n",
    "from regression_code.storm.tests import test_utils"
   ]
  },
  {
   "cell_type": "markdown",
   "metadata": {
    "ExecuteTime": {
     "end_time": "2016-08-26T13:30:26.910117",
     "start_time": "2016-08-26T13:30:26.907323"
    }
   },
   "source": [
    "# load data"
   ]
  },
  {
   "cell_type": "code",
   "execution_count": 2,
   "metadata": {
    "ExecuteTime": {
     "end_time": "2016-08-26T20:15:58.115034",
     "start_time": "2016-08-26T20:15:25.041174"
    },
    "collapsed": false,
    "scrolled": true
   },
   "outputs": [
    {
     "name": "stderr",
     "output_type": "stream",
     "text": [
      "/auto/k1/storm/python_path/storm/storm/utils/stats.py:34: RuntimeWarning: invalid value encountered in divide\n",
      "  return array / array.std(axis, keepdims=True)\n",
      "/usr/local/lib/python2.7/dist-packages/scipy/stats/stats.py:2043: RuntimeWarning: invalid value encountered in true_divide\n",
      "  return (a - mns) / sstd\n"
     ]
    },
    {
     "name": "stdout",
     "output_type": "stream",
     "text": [
      "Xtrain: (1832, 116)\n",
      "Xtest: (504, 116)\n",
      "Ytrain: (1832, 92970)\n",
      "Ytest: (504, 92970)\n"
     ]
    }
   ],
   "source": [
    "datasets = test_datasets.load_all()\n",
    "dataset = datasets['qa_skinny']\n",
    "\n",
    "Xtrain = dataset['Xtrain']\n",
    "Xtest = dataset['Xtest']\n",
    "Ytrain = dataset['Ytrain']\n",
    "Ytest = dataset['Ytest']\n",
    "\n",
    "print('Xtrain:', Xtrain.shape)\n",
    "print('Xtest:', Xtest.shape)\n",
    "print('Ytrain:', Ytrain.shape)\n",
    "print('Ytest:', Ytest.shape)"
   ]
  },
  {
   "cell_type": "markdown",
   "metadata": {
    "ExecuteTime": {
     "start_time": "2016-08-26T20:32:33.036Z"
    }
   },
   "source": [
    "# basic regression"
   ]
  },
  {
   "cell_type": "code",
   "execution_count": 28,
   "metadata": {
    "ExecuteTime": {
     "end_time": "2016-08-26T19:31:28.908214",
     "start_time": "2016-08-26T19:31:20.291174"
    },
    "collapsed": false
   },
   "outputs": [
    {
     "name": "stdout",
     "output_type": "stream",
     "text": [
      "Fitting ridge model...\n",
      "- (train, test): (0.784, 0.216)\n",
      "- n_ridges: 20\n",
      "- n_regressors: 116\n",
      "- n_regressands: 92970\n",
      "- n_train_samples: 1832\n",
      "- n_test_samples: 504\n",
      "- inputs: Xtrain, Ytrain, Xtest, Ytest\n",
      "- outputs: weights, predictions, performance\n",
      "- solver: eig_dual\n",
      "- dtype: float32\n",
      "\n",
      "01:     1.0  (5%, 25%, 50%, 75%, 95%)=(-0.054, -0.000, +0.044, +0.101, +0.252)\n",
      "02:     1.6  (5%, 25%, 50%, 75%, 95%)=(-0.054, -0.000, +0.044, +0.101, +0.252)\n",
      "03:     2.6  (5%, 25%, 50%, 75%, 95%)=(-0.054, -0.000, +0.044, +0.101, +0.252)\n",
      "04:     4.3  (5%, 25%, 50%, 75%, 95%)=(-0.054, -0.000, +0.044, +0.101, +0.252)\n",
      "05:     7.0  (5%, 25%, 50%, 75%, 95%)=(-0.054, -0.000, +0.044, +0.101, +0.253)\n",
      "06:    11.3  (5%, 25%, 50%, 75%, 95%)=(-0.054, -0.000, +0.043, +0.102, +0.254)\n",
      "07:    18.3  (5%, 25%, 50%, 75%, 95%)=(-0.055, -0.000, +0.043, +0.102, +0.254)\n",
      "08:    29.8  (5%, 25%, 50%, 75%, 95%)=(-0.055, -0.001, +0.043, +0.102, +0.254)\n",
      "09:    48.3  (5%, 25%, 50%, 75%, 95%)=(-0.055, -0.001, +0.043, +0.102, +0.253)\n",
      "10:    78.5  (5%, 25%, 50%, 75%, 95%)=(-0.055, -0.000, +0.043, +0.102, +0.253)\n",
      "11:   127.4  (5%, 25%, 50%, 75%, 95%)=(-0.055, -0.000, +0.044, +0.102, +0.252)\n",
      "12:   206.9  (5%, 25%, 50%, 75%, 95%)=(-0.055, -0.000, +0.044, +0.102, +0.252)\n",
      "13:   336.0  (5%, 25%, 50%, 75%, 95%)=(-0.055, -0.000, +0.044, +0.102, +0.252)\n",
      "14:   545.6  (5%, 25%, 50%, 75%, 95%)=(-0.055, -0.000, +0.044, +0.102, +0.252)\n",
      "15:   885.9  (5%, 25%, 50%, 75%, 95%)=(-0.055, -0.000, +0.044, +0.102, +0.252)\n",
      "16:  1438.4  (5%, 25%, 50%, 75%, 95%)=(-0.055, -0.000, +0.044, +0.102, +0.252)\n",
      "17:  2335.7  (5%, 25%, 50%, 75%, 95%)=(-0.055, -0.000, +0.044, +0.102, +0.252)\n",
      "18:  3792.7  (5%, 25%, 50%, 75%, 95%)=(-0.055, -0.000, +0.044, +0.102, +0.252)\n",
      "19:  6158.5  (5%, 25%, 50%, 75%, 95%)=(-0.055, -0.000, +0.044, +0.102, +0.252)\n",
      "20:  10000.  (5%, 25%, 50%, 75%, 95%)=(-0.055, -0.000, +0.044, +0.102, +0.252)\n",
      "\n",
      "\n",
      "[results]: dict [3]\n",
      "- 'performance': ndarray (20, 92970)\n",
      "- 'predictions': ndarray (20, 504, 92970)\n",
      "- 'weights': ndarray (20, 116, 92970)\n"
     ]
    }
   ],
   "source": [
    "parameters = {\n",
    "    'weights': True,\n",
    "    'predictions': True,\n",
    "    'performance': True,\n",
    "    'ridges': np.logspace(0, 4, 20),\n",
    "}\n",
    "\n",
    "results = ridge.solve_ridge(Xtrain, Ytrain, Xtest, Ytest, **parameters)\n",
    "\n",
    "print()\n",
    "print()\n",
    "test_utils.rprint(results, 'results')"
   ]
  },
  {
   "cell_type": "markdown",
   "metadata": {
    "ExecuteTime": {
     "end_time": "2016-08-26T13:40:18.561157",
     "start_time": "2016-08-26T13:40:18.558079"
    }
   },
   "source": [
    "# use alternate solver"
   ]
  },
  {
   "cell_type": "code",
   "execution_count": 29,
   "metadata": {
    "ExecuteTime": {
     "end_time": "2016-08-26T19:32:13.497413",
     "start_time": "2016-08-26T19:32:08.011079"
    },
    "collapsed": false
   },
   "outputs": [
    {
     "name": "stdout",
     "output_type": "stream",
     "text": [
      "Fitting ridge model...\n",
      "- (train, test): (0.784, 0.216)\n",
      "- n_ridges: 20\n",
      "- n_regressors: 116\n",
      "- n_regressands: 92970\n",
      "- n_train_samples: 1832\n",
      "- n_test_samples: 504\n",
      "- inputs: Xtrain, Ytrain, Xtest, Ytest\n",
      "- outputs: weights, predictions, performance\n",
      "- solver: svd\n",
      "- dtype: float32\n",
      "\n",
      "01:     1.0  (5%, 25%, 50%, 75%, 95%)=(-0.054, -0.000, +0.044, +0.101, +0.252)\n",
      "02:     1.6  (5%, 25%, 50%, 75%, 95%)=(-0.054, -0.000, +0.044, +0.101, +0.252)\n",
      "03:     2.6  (5%, 25%, 50%, 75%, 95%)=(-0.054, -0.000, +0.044, +0.101, +0.252)\n",
      "04:     4.3  (5%, 25%, 50%, 75%, 95%)=(-0.054, -0.000, +0.044, +0.101, +0.252)\n",
      "05:     7.0  (5%, 25%, 50%, 75%, 95%)=(-0.054, -0.000, +0.044, +0.101, +0.253)\n",
      "06:    11.3  (5%, 25%, 50%, 75%, 95%)=(-0.054, -0.000, +0.043, +0.102, +0.254)\n",
      "07:    18.3  (5%, 25%, 50%, 75%, 95%)=(-0.055, -0.000, +0.043, +0.102, +0.254)\n",
      "08:    29.8  (5%, 25%, 50%, 75%, 95%)=(-0.055, -0.001, +0.043, +0.102, +0.254)\n",
      "09:    48.3  (5%, 25%, 50%, 75%, 95%)=(-0.055, -0.001, +0.043, +0.102, +0.253)\n",
      "10:    78.5  (5%, 25%, 50%, 75%, 95%)=(-0.055, -0.000, +0.043, +0.102, +0.253)\n",
      "11:   127.4  (5%, 25%, 50%, 75%, 95%)=(-0.055, -0.000, +0.044, +0.102, +0.252)\n",
      "12:   206.9  (5%, 25%, 50%, 75%, 95%)=(-0.055, -0.000, +0.044, +0.102, +0.252)\n",
      "13:   336.0  (5%, 25%, 50%, 75%, 95%)=(-0.055, -0.000, +0.044, +0.102, +0.252)\n",
      "14:   545.6  (5%, 25%, 50%, 75%, 95%)=(-0.055, -0.000, +0.044, +0.102, +0.252)\n",
      "15:   885.9  (5%, 25%, 50%, 75%, 95%)=(-0.055, -0.000, +0.044, +0.102, +0.252)\n",
      "16:  1438.4  (5%, 25%, 50%, 75%, 95%)=(-0.055, -0.000, +0.044, +0.102, +0.252)\n",
      "17:  2335.7  (5%, 25%, 50%, 75%, 95%)=(-0.055, -0.000, +0.044, +0.102, +0.252)\n",
      "18:  3792.7  (5%, 25%, 50%, 75%, 95%)=(-0.055, -0.000, +0.044, +0.102, +0.252)\n",
      "19:  6158.5  (5%, 25%, 50%, 75%, 95%)=(-0.055, -0.000, +0.044, +0.102, +0.252)\n",
      "20:  10000.  (5%, 25%, 50%, 75%, 95%)=(-0.055, -0.000, +0.044, +0.102, +0.252)\n",
      "\n",
      "\n",
      "[results]: dict [3]\n",
      "- 'performance': ndarray (20, 92970)\n",
      "- 'predictions': ndarray (20, 504, 92970)\n",
      "- 'weights': ndarray (20, 116, 92970)\n"
     ]
    }
   ],
   "source": [
    "parameters = {\n",
    "    'weights': True,\n",
    "    'predictions': True,\n",
    "    'performance': True,\n",
    "    'ridges': np.logspace(0, 4, 20),\n",
    "    'solver': 'svd',\n",
    "}\n",
    "\n",
    "results = ridge.solve_ridge(Xtrain, Ytrain, Xtest, Ytest, **parameters)\n",
    "\n",
    "print()\n",
    "print()\n",
    "test_utils.rprint(results, 'results')"
   ]
  },
  {
   "cell_type": "markdown",
   "metadata": {
    "ExecuteTime": {
     "end_time": "2016-08-26T18:47:37.457701",
     "start_time": "2016-08-26T18:47:37.456179"
    }
   },
   "source": [
    "# optimize for performance"
   ]
  },
  {
   "cell_type": "code",
   "execution_count": 6,
   "metadata": {
    "ExecuteTime": {
     "end_time": "2016-08-26T19:23:53.002069",
     "start_time": "2016-08-26T19:23:52.740901"
    },
    "collapsed": true
   },
   "outputs": [],
   "source": [
    "Xtrain = Xtrain.astype(np.float32)\n",
    "Ytrain = Ytrain.astype(np.float32)\n",
    "Xtest = Xtest.astype(np.float32)\n",
    "Ytest = Ytest.astype(np.float32)"
   ]
  },
  {
   "cell_type": "code",
   "execution_count": 10,
   "metadata": {
    "ExecuteTime": {
     "end_time": "2016-08-26T19:25:43.047364",
     "start_time": "2016-08-26T19:25:30.890467"
    },
    "collapsed": false
   },
   "outputs": [
    {
     "name": "stdout",
     "output_type": "stream",
     "text": [
      "Fitting ridge model...\n",
      "- (train, test): (0.784, 0.216)\n",
      "- n_ridges: 20\n",
      "- n_regressors: 116\n",
      "- n_regressands: 92970\n",
      "- n_train_samples: 1832\n",
      "- n_test_samples: 504\n",
      "- inputs: Xtrain, Ytrain, Xtest, Ytest\n",
      "- outputs: performance\n",
      "- solver: eig_dual\n",
      "- dtype: float32\n",
      "\n",
      "01:     1.0  (5%, 25%, 50%, 75%, 95%)=(-0.054, -0.000, +0.044, +0.101, +0.252)\n",
      "02:     1.6  (5%, 25%, 50%, 75%, 95%)=(-0.054, -0.000, +0.044, +0.101, +0.252)\n",
      "03:     2.6  (5%, 25%, 50%, 75%, 95%)=(-0.054, -0.000, +0.044, +0.101, +0.252)\n",
      "04:     4.3  (5%, 25%, 50%, 75%, 95%)=(-0.054, -0.000, +0.044, +0.101, +0.252)\n",
      "05:     7.0  (5%, 25%, 50%, 75%, 95%)=(-0.054, -0.000, +0.044, +0.101, +0.253)\n",
      "06:    11.3  (5%, 25%, 50%, 75%, 95%)=(-0.054, -0.000, +0.043, +0.102, +0.254)\n",
      "07:    18.3  (5%, 25%, 50%, 75%, 95%)=(-0.055, -0.000, +0.043, +0.102, +0.254)\n",
      "08:    29.8  (5%, 25%, 50%, 75%, 95%)=(-0.055, -0.001, +0.043, +0.102, +0.254)\n",
      "09:    48.3  (5%, 25%, 50%, 75%, 95%)=(-0.055, -0.001, +0.043, +0.102, +0.253)\n",
      "10:    78.5  (5%, 25%, 50%, 75%, 95%)=(-0.055, -0.000, +0.043, +0.102, +0.253)\n",
      "11:   127.4  (5%, 25%, 50%, 75%, 95%)=(-0.055, -0.000, +0.044, +0.102, +0.252)\n",
      "12:   206.9  (5%, 25%, 50%, 75%, 95%)=(-0.055, -0.000, +0.044, +0.102, +0.252)\n",
      "13:   336.0  (5%, 25%, 50%, 75%, 95%)=(-0.055, -0.000, +0.044, +0.102, +0.252)\n",
      "14:   545.6  (5%, 25%, 50%, 75%, 95%)=(-0.055, -0.000, +0.044, +0.102, +0.252)\n",
      "15:   885.9  (5%, 25%, 50%, 75%, 95%)=(-0.055, -0.000, +0.044, +0.102, +0.252)\n",
      "16:  1438.4  (5%, 25%, 50%, 75%, 95%)=(-0.055, -0.000, +0.044, +0.102, +0.252)\n",
      "17:  2335.7  (5%, 25%, 50%, 75%, 95%)=(-0.055, -0.000, +0.044, +0.102, +0.252)\n",
      "18:  3792.7  (5%, 25%, 50%, 75%, 95%)=(-0.055, -0.000, +0.044, +0.102, +0.252)\n",
      "19:  6158.5  (5%, 25%, 50%, 75%, 95%)=(-0.055, -0.000, +0.044, +0.102, +0.252)\n",
      "20:  10000.  (5%, 25%, 50%, 75%, 95%)=(-0.055, -0.000, +0.044, +0.102, +0.252)\n",
      "\n",
      "\n",
      "[results]: dict [1]\n",
      "- 'performance': ndarray (20, 92970)\n"
     ]
    }
   ],
   "source": [
    "parameters = {\n",
    "    'weights': False,\n",
    "    'predictions': False,\n",
    "    'performance': True,\n",
    "    'Ytest_zscored': True,\n",
    "    'ridges': np.logspace(0, 4, 20),\n",
    "}\n",
    "\n",
    "results = ridge.solve_ridge(Xtrain, Ytrain, Xtest, Ytest, **parameters)\n",
    "\n",
    "print()\n",
    "print()\n",
    "test_utils.rprint(results, 'results')"
   ]
  },
  {
   "cell_type": "markdown",
   "metadata": {
    "ExecuteTime": {
     "end_time": "2016-08-26T20:10:19.988540",
     "start_time": "2016-08-26T20:10:19.985803"
    }
   },
   "source": [
    "# pass kernels directly"
   ]
  },
  {
   "cell_type": "code",
   "execution_count": 6,
   "metadata": {
    "ExecuteTime": {
     "end_time": "2016-08-26T20:17:05.251394",
     "start_time": "2016-08-26T20:16:57.481695"
    },
    "collapsed": false
   },
   "outputs": [
    {
     "name": "stdout",
     "output_type": "stream",
     "text": [
      "Fitting ridge model...\n",
      "- (train, test): (0.784, 0.216)\n",
      "- n_ridges: 20\n",
      "- n_regressors: None\n",
      "- n_regressands: 92970\n",
      "- n_train_samples: 1832\n",
      "- n_test_samples: 504\n",
      "- inputs: Ktrain, Ytrain, Ktrain, Ytest, Ktest\n",
      "- outputs: performance\n",
      "- solver: eig_dual\n",
      "- dtype: float64\n",
      "\n",
      "01:     1.0  (5%, 25%, 50%, 75%, 95%)=(-0.054, -0.000, +0.044, +0.101, +0.252)\n",
      "02:     1.6  (5%, 25%, 50%, 75%, 95%)=(-0.054, -0.000, +0.044, +0.101, +0.252)\n",
      "03:     2.6  (5%, 25%, 50%, 75%, 95%)=(-0.054, -0.000, +0.044, +0.101, +0.252)\n",
      "04:     4.3  (5%, 25%, 50%, 75%, 95%)=(-0.054, -0.000, +0.044, +0.101, +0.252)\n",
      "05:     7.0  (5%, 25%, 50%, 75%, 95%)=(-0.054, -0.000, +0.044, +0.101, +0.253)\n",
      "06:    11.3  (5%, 25%, 50%, 75%, 95%)=(-0.054, -0.000, +0.043, +0.102, +0.254)\n",
      "07:    18.3  (5%, 25%, 50%, 75%, 95%)=(-0.055, -0.000, +0.043, +0.102, +0.254)\n",
      "08:    29.8  (5%, 25%, 50%, 75%, 95%)=(-0.055, -0.001, +0.043, +0.102, +0.254)\n",
      "09:    48.3  (5%, 25%, 50%, 75%, 95%)=(-0.055, -0.001, +0.043, +0.102, +0.253)\n",
      "10:    78.5  (5%, 25%, 50%, 75%, 95%)=(-0.055, -0.000, +0.043, +0.102, +0.253)\n",
      "11:   127.4  (5%, 25%, 50%, 75%, 95%)=(-0.055, -0.000, +0.044, +0.102, +0.252)\n",
      "12:   206.9  (5%, 25%, 50%, 75%, 95%)=(-0.055, -0.000, +0.044, +0.102, +0.252)\n",
      "13:   336.0  (5%, 25%, 50%, 75%, 95%)=(-0.055, -0.000, +0.044, +0.102, +0.252)\n",
      "14:   545.6  (5%, 25%, 50%, 75%, 95%)=(-0.055, -0.000, +0.044, +0.102, +0.252)\n",
      "15:   885.9  (5%, 25%, 50%, 75%, 95%)=(-0.055, -0.000, +0.044, +0.102, +0.252)\n",
      "16:  1438.4  (5%, 25%, 50%, 75%, 95%)=(-0.055, -0.000, +0.044, +0.102, +0.252)\n",
      "17:  2335.7  (5%, 25%, 50%, 75%, 95%)=(-0.055, -0.000, +0.044, +0.102, +0.252)\n",
      "18:  3792.7  (5%, 25%, 50%, 75%, 95%)=(-0.055, -0.000, +0.044, +0.102, +0.252)\n",
      "19:  6158.5  (5%, 25%, 50%, 75%, 95%)=(-0.055, -0.000, +0.044, +0.102, +0.252)\n",
      "20:  10000.  (5%, 25%, 50%, 75%, 95%)=(-0.055, -0.000, +0.044, +0.102, +0.252)\n",
      "\n",
      "\n",
      "[results]: dict [1]\n",
      "- 'performance': ndarray (20, 92970)\n"
     ]
    }
   ],
   "source": [
    "parameters = {\n",
    "    'weights': False,\n",
    "    'predictions': False,\n",
    "    'performance': True,\n",
    "    'Ktrain': Xtrain.dot(Xtrain.T),\n",
    "    'Ktest': Xtest.dot(Xtrain.T),\n",
    "    'Ytrain': Ytrain,\n",
    "    'Ytest': Ytest,\n",
    "    'ridges': np.logspace(0, 4, 20),\n",
    "}\n",
    "\n",
    "results = ridge.solve_ridge(**parameters)\n",
    "\n",
    "print()\n",
    "print()\n",
    "test_utils.rprint(results, 'results')"
   ]
  },
  {
   "cell_type": "markdown",
   "metadata": {
    "ExecuteTime": {
     "end_time": "2016-08-26T20:15:59.209873",
     "start_time": "2016-08-27T03:15:55.896Z"
    }
   },
   "source": [
    "# see `ridge/ridge.py` for additional options"
   ]
  }
 ],
 "metadata": {
  "hide_input": false,
  "kernelspec": {
   "display_name": "Python 2",
   "language": "python",
   "name": "python2"
  },
  "language_info": {
   "codemirror_mode": {
    "name": "ipython",
    "version": 2
   },
   "file_extension": ".py",
   "mimetype": "text/x-python",
   "name": "python",
   "nbconvert_exporter": "python",
   "pygments_lexer": "ipython2",
   "version": "2.7.6"
  }
 },
 "nbformat": 4,
 "nbformat_minor": 0
}
