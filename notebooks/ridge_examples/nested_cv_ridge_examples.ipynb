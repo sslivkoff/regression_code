{
 "cells": [
  {
   "cell_type": "markdown",
   "metadata": {
    "ExecuteTime": {
     "end_time": "2016-08-26T22:18:23.627738",
     "start_time": "2016-08-26T22:18:23.622810"
    }
   },
   "source": [
    "# examples of nested_cv_ridge() usage\n",
    "- used when a separate test dataset is not available"
   ]
  },
  {
   "cell_type": "code",
   "execution_count": 1,
   "metadata": {
    "ExecuteTime": {
     "end_time": "2016-08-27T00:17:26.342732",
     "start_time": "2016-08-27T00:17:25.647915"
    },
    "collapsed": false,
    "scrolled": true
   },
   "outputs": [],
   "source": [
    "from __future__ import print_function\n",
    "\n",
    "import numpy as np\n",
    "\n",
    "from regression_code.storm import ridge\n",
    "from regression_code.storm.tests import test_datasets\n",
    "from regression_code.storm.tests import test_utils"
   ]
  },
  {
   "cell_type": "markdown",
   "metadata": {
    "ExecuteTime": {
     "end_time": "2016-08-26T22:18:32.800591",
     "start_time": "2016-08-26T22:18:32.798028"
    }
   },
   "source": [
    "# load data"
   ]
  },
  {
   "cell_type": "code",
   "execution_count": 2,
   "metadata": {
    "ExecuteTime": {
     "end_time": "2016-08-27T00:18:00.864699",
     "start_time": "2016-08-27T00:17:27.471541"
    },
    "collapsed": false,
    "scrolled": true
   },
   "outputs": [
    {
     "name": "stderr",
     "output_type": "stream",
     "text": [
      "/auto/k1/storm/python_path/storm/storm/utils/stats.py:34: RuntimeWarning: invalid value encountered in divide\n",
      "  return array / array.std(axis, keepdims=True)\n",
      "/usr/local/lib/python2.7/dist-packages/scipy/stats/stats.py:2043: RuntimeWarning: invalid value encountered in true_divide\n",
      "  return (a - mns) / sstd\n"
     ]
    },
    {
     "name": "stdout",
     "output_type": "stream",
     "text": [
      "Xtrain: (1832, 116)\n",
      "Ytrain: (1832, 92970)\n"
     ]
    }
   ],
   "source": [
    "datasets = test_datasets.load_all()\n",
    "dataset = datasets['qa_skinny']\n",
    "\n",
    "Xtrain = dataset['Xtrain']\n",
    "Ytrain = dataset['Ytrain']\n",
    "\n",
    "print('Xtrain:', Xtrain.shape)\n",
    "print('Ytrain:', Ytrain.shape)"
   ]
  },
  {
   "cell_type": "markdown",
   "metadata": {
    "ExecuteTime": {
     "end_time": "2016-08-26T22:18:49.751382",
     "start_time": "2016-08-26T22:18:49.749769"
    }
   },
   "source": [
    "# perform nested cv"
   ]
  },
  {
   "cell_type": "code",
   "execution_count": 3,
   "metadata": {
    "ExecuteTime": {
     "end_time": "2016-08-27T00:09:43.346590",
     "start_time": "2016-08-27T00:09:01.145311"
    },
    "collapsed": false,
    "scrolled": false
   },
   "outputs": [
    {
     "name": "stdout",
     "output_type": "stream",
     "text": [
      "Fitting cross-validated ridge model...\n",
      "- (train, validate): (0.667, 0.333)\n",
      "- n_folds: 3\n",
      "- using cluster: False\n",
      "- globally optimal parameters: True\n",
      "- locally optimal parameters: True\n",
      "- n_ridges: 5\n",
      "- n_regressors: 116\n",
      "- n_regressands: 92970\n",
      "- n_train_samples: 1832\n",
      "- n_test_samples: None\n",
      "- inputs: Xtrain, Ytrain\n",
      "- outputs: weights, predictions, performance\n",
      "- dtype: float64\n",
      "- additional kwargs: None\n",
      "\n",
      "Outer Fold 1/3, (train, validate)=(1221, 611)=(0.666, 0.334)\n",
      "Outer Fold 2/3, (train, validate)=(1221, 611)=(0.666, 0.334)\n",
      "Outer Fold 3/3, (train, validate)=(1222, 610)=(0.667, 0.333)\n",
      "Outer folds complete, combining results\n",
      "\n",
      "\n",
      "[results]: dict [8]\n",
      "- 'global_optimal_ridge': ndarray (3,)\n",
      "    [  1.00000000e+04   1.00000000e+01   1.00000000e+00]\n",
      "- 'global_performance': ndarray (92970,)\n",
      "- 'global_predictions': ndarray (1832, 92970)\n",
      "- 'global_weights': ndarray (116, 92970)\n",
      "- 'local_optimal_ridge': ndarray (278910,)\n",
      "- 'local_performance': ndarray (92970,)\n",
      "- 'local_predictions': ndarray (1832, 92970)\n",
      "- 'local_weights': ndarray (116, 92970)\n"
     ]
    }
   ],
   "source": [
    "parameters = {\n",
    "    'weights': True,\n",
    "    'predictions': True,\n",
    "    'performance': True,\n",
    "    'ridges': np.logspace(0, 4, 5),\n",
    "    'outer_fold_params': {\n",
    "        'n_folds': 3,\n",
    "    },\n",
    "    'verbose': 1,\n",
    "}\n",
    "\n",
    "results = ridge.nested_cv_ridge(Xtrain, Ytrain, **parameters)\n",
    "\n",
    "print()\n",
    "print()\n",
    "test_utils.rprint(results, 'results')"
   ]
  },
  {
   "cell_type": "code",
   "execution_count": 4,
   "metadata": {
    "ExecuteTime": {
     "end_time": "2016-08-27T00:09:43.354423",
     "start_time": "2016-08-27T00:09:43.348923"
    },
    "collapsed": false
   },
   "outputs": [
    {
     "name": "stderr",
     "output_type": "stream",
     "text": [
      "ERROR:root:No traceback has been produced, nothing to debug.\n"
     ]
    }
   ],
   "source": [
    "debug"
   ]
  },
  {
   "cell_type": "markdown",
   "metadata": {
    "ExecuteTime": {
     "end_time": "2016-08-26T22:19:48.675072",
     "start_time": "2016-08-26T22:19:48.673540"
    }
   },
   "source": [
    "# use cluster"
   ]
  },
  {
   "cell_type": "code",
   "execution_count": 5,
   "metadata": {
    "ExecuteTime": {
     "end_time": "2016-08-27T00:12:06.090959",
     "start_time": "2016-08-27T00:09:43.357199"
    },
    "collapsed": false
   },
   "outputs": [
    {
     "name": "stdout",
     "output_type": "stream",
     "text": [
      "Fitting cross-validated ridge model...\n",
      "- (train, validate): (0.667, 0.333)\n",
      "- n_folds: 3\n",
      "- using cluster: True\n",
      "- globally optimal parameters: True\n",
      "- locally optimal parameters: True\n",
      "- n_ridges: 5\n",
      "- n_regressors: 116\n",
      "- n_regressands: 92970\n",
      "- n_train_samples: 1832\n",
      "- n_test_samples: None\n",
      "- inputs: Xtrain, Ytrain\n",
      "- outputs: weights, predictions, performance\n",
      "- dtype: float64\n",
      "- additional kwargs: None\n",
      "\n",
      "\n",
      "Outer folds complete, combining results\n",
      "\n",
      "\n",
      "[results]: dict [8]\n",
      "- 'global_optimal_ridge': ndarray (3,)\n",
      "    [  1.00000000e+04   1.00000000e+01   1.00000000e+00]\n",
      "- 'global_performance': ndarray (92970,)\n",
      "- 'global_predictions': ndarray (1832, 92970)\n",
      "- 'global_weights': ndarray (116, 92970)\n",
      "- 'local_optimal_ridge': ndarray (278910,)\n",
      "- 'local_performance': ndarray (92970,)\n",
      "- 'local_predictions': ndarray (1832, 92970)\n",
      "- 'local_weights': ndarray (116, 92970)\n"
     ]
    }
   ],
   "source": [
    "parameters = {\n",
    "    'weights': True,\n",
    "    'predictions': True,\n",
    "    'performance': True,\n",
    "    'ridges': np.logspace(0, 4, 5),\n",
    "    'outer_fold_params': {\n",
    "        'n_folds': 3,\n",
    "    },\n",
    "    'cluster': True,\n",
    "}\n",
    "\n",
    "results = ridge.nested_cv_ridge(Xtrain, Ytrain, **parameters)\n",
    "\n",
    "print()\n",
    "print()\n",
    "test_utils.rprint(results, 'results')"
   ]
  },
  {
   "cell_type": "markdown",
   "metadata": {
    "ExecuteTime": {
     "end_time": "2016-08-26T23:57:08.956200",
     "start_time": "2016-08-26T23:57:08.953375"
    }
   },
   "source": [
    "# verbose output"
   ]
  },
  {
   "cell_type": "code",
   "execution_count": 6,
   "metadata": {
    "ExecuteTime": {
     "end_time": "2016-08-27T00:12:50.536490",
     "start_time": "2016-08-27T00:12:06.093532"
    },
    "collapsed": false,
    "scrolled": true
   },
   "outputs": [
    {
     "name": "stdout",
     "output_type": "stream",
     "text": [
      "Fitting cross-validated ridge model...\n",
      "- (train, validate): (0.667, 0.333)\n",
      "- n_folds: 3\n",
      "- using cluster: False\n",
      "- globally optimal parameters: True\n",
      "- locally optimal parameters: True\n",
      "- n_ridges: 5\n",
      "- n_regressors: 116\n",
      "- n_regressands: 92970\n",
      "- n_train_samples: 1832\n",
      "- n_test_samples: None\n",
      "- inputs: Xtrain, Ytrain\n",
      "- outputs: weights, predictions, performance\n",
      "- dtype: float64\n",
      "- additional kwargs: None\n",
      "\n",
      "\n",
      "Outer Fold 1/3, (train, validate)=(1221, 611)=(0.666, 0.334)\n",
      "Fitting cross-validated ridge model...\n",
      "- (train, validate, test): (0.533, 0.133, 0.334)\n",
      "- n_folds: 5\n",
      "- using cluster: False\n",
      "- globally optimal parameters: True\n",
      "- locally optimal parameters: True\n",
      "- n_ridges: 5\n",
      "- n_regressors: 116\n",
      "- n_regressands: 92970\n",
      "- n_train_samples: 1221\n",
      "- n_test_samples: 611\n",
      "- inputs: Xtrain, Ytrain, Xtest, Ytest\n",
      "- outputs: weights, predictions\n",
      "- dtype: float64\n",
      "- additional kwargs:\n",
      "    - rescale: True\n",
      "\n",
      "Fold 1/5, (train, validate)=(976, 245)=(0.799, 0.201)\n",
      "1:     1.0  (5%, 25%, 50%, 75%, 95%)=(-0.088, -0.017, +0.036, +0.099, +0.231)\n",
      "2:    10.0  (5%, 25%, 50%, 75%, 95%)=(-0.089, -0.018, +0.036, +0.098, +0.231)\n",
      "3:   100.0  (5%, 25%, 50%, 75%, 95%)=(-0.090, -0.018, +0.036, +0.099, +0.227)\n",
      "4:  1000.0  (5%, 25%, 50%, 75%, 95%)=(-0.091, -0.018, +0.036, +0.099, +0.226)\n",
      "5:  10000.  (5%, 25%, 50%, 75%, 95%)=(-0.091, -0.018, +0.036, +0.099, +0.226)\n",
      "\n",
      "Fold 2/5, (train, validate)=(976, 245)=(0.799, 0.201)\n",
      "1:     1.0  (5%, 25%, 50%, 75%, 95%)=(-0.088, -0.021, +0.028, +0.083, +0.203)\n",
      "2:    10.0  (5%, 25%, 50%, 75%, 95%)=(-0.090, -0.023, +0.027, +0.082, +0.204)\n",
      "3:   100.0  (5%, 25%, 50%, 75%, 95%)=(-0.090, -0.023, +0.027, +0.084, +0.208)\n",
      "4:  1000.0  (5%, 25%, 50%, 75%, 95%)=(-0.090, -0.022, +0.028, +0.084, +0.208)\n",
      "5:  10000.  (5%, 25%, 50%, 75%, 95%)=(-0.090, -0.022, +0.028, +0.084, +0.208)\n",
      "\n",
      "Fold 3/5, (train, validate)=(976, 245)=(0.799, 0.201)\n",
      "1:     1.0  (5%, 25%, 50%, 75%, 95%)=(-0.089, -0.020, +0.033, +0.094, +0.221)\n",
      "2:    10.0  (5%, 25%, 50%, 75%, 95%)=(-0.090, -0.020, +0.032, +0.094, +0.221)\n",
      "3:   100.0  (5%, 25%, 50%, 75%, 95%)=(-0.088, -0.018, +0.035, +0.097, +0.221)\n",
      "4:  1000.0  (5%, 25%, 50%, 75%, 95%)=(-0.088, -0.018, +0.035, +0.097, +0.221)\n",
      "5:  10000.  (5%, 25%, 50%, 75%, 95%)=(-0.088, -0.018, +0.035, +0.097, +0.221)\n",
      "\n",
      "Fold 4/5, (train, validate)=(976, 245)=(0.799, 0.201)\n",
      "1:     1.0  (5%, 25%, 50%, 75%, 95%)=(-0.085, -0.017, +0.035, +0.095, +0.224)\n",
      "2:    10.0  (5%, 25%, 50%, 75%, 95%)=(-0.085, -0.017, +0.035, +0.096, +0.226)\n",
      "3:   100.0  (5%, 25%, 50%, 75%, 95%)=(-0.083, -0.015, +0.038, +0.099, +0.229)\n",
      "4:  1000.0  (5%, 25%, 50%, 75%, 95%)=(-0.083, -0.014, +0.038, +0.099, +0.229)\n",
      "5:  10000.  (5%, 25%, 50%, 75%, 95%)=(-0.083, -0.014, +0.038, +0.099, +0.229)\n",
      "\n",
      "Fold 5/5, (train, validate)=(981, 240)=(0.803, 0.197)\n",
      "1:     1.0  (5%, 25%, 50%, 75%, 95%)=(-0.096, -0.027, +0.025, +0.084, +0.212)\n",
      "2:    10.0  (5%, 25%, 50%, 75%, 95%)=(-0.096, -0.027, +0.025, +0.084, +0.213)\n",
      "3:   100.0  (5%, 25%, 50%, 75%, 95%)=(-0.092, -0.023, +0.029, +0.088, +0.218)\n",
      "4:  1000.0  (5%, 25%, 50%, 75%, 95%)=(-0.091, -0.023, +0.030, +0.088, +0.218)\n",
      "5:  10000.  (5%, 25%, 50%, 75%, 95%)=(-0.091, -0.023, +0.030, +0.088, +0.218)\n",
      "\n",
      "Globally-Optimal Ridge: 10000.0\n",
      "Locally-Optimal Ridges:\n",
      "       1.0  30500\n",
      "      10.0  12390\n",
      "     100.0  6701\n",
      "    1000.0  540\n",
      "    10000.  42839\n",
      "Fit with globally-optimal parameters\n",
      "Fit with locally-optimal parameters\n",
      "\n",
      "\n",
      "Outer Fold 2/3, (train, validate)=(1221, 611)=(0.666, 0.334)\n",
      "Fitting cross-validated ridge model...\n",
      "- (train, validate, test): (0.533, 0.133, 0.334)\n",
      "- n_folds: 5\n",
      "- using cluster: False\n",
      "- globally optimal parameters: True\n",
      "- locally optimal parameters: True\n",
      "- n_ridges: 5\n",
      "- n_regressors: 116\n",
      "- n_regressands: 92970\n",
      "- n_train_samples: 1221\n",
      "- n_test_samples: 611\n",
      "- inputs: Xtrain, Ytrain, Xtest, Ytest\n",
      "- outputs: weights, predictions\n",
      "- dtype: float64\n",
      "- additional kwargs:\n",
      "    - rescale: True\n",
      "\n",
      "Fold 1/5, (train, validate)=(976, 245)=(0.799, 0.201)\n",
      "1:     1.0  (5%, 25%, 50%, 75%, 95%)=(-0.081, -0.010, +0.044, +0.109, +0.254)\n",
      "2:    10.0  (5%, 25%, 50%, 75%, 95%)=(-0.081, -0.010, +0.044, +0.109, +0.256)\n",
      "3:   100.0  (5%, 25%, 50%, 75%, 95%)=(-0.081, -0.010, +0.044, +0.110, +0.256)\n",
      "4:  1000.0  (5%, 25%, 50%, 75%, 95%)=(-0.081, -0.010, +0.044, +0.110, +0.256)\n",
      "5:  10000.  (5%, 25%, 50%, 75%, 95%)=(-0.081, -0.010, +0.044, +0.110, +0.256)\n",
      "\n",
      "Fold 2/5, (train, validate)=(976, 245)=(0.799, 0.201)\n",
      "1:     1.0  (5%, 25%, 50%, 75%, 95%)=(-0.080, -0.014, +0.036, +0.092, +0.214)\n",
      "2:    10.0  (5%, 25%, 50%, 75%, 95%)=(-0.081, -0.015, +0.035, +0.091, +0.213)\n",
      "3:   100.0  (5%, 25%, 50%, 75%, 95%)=(-0.083, -0.016, +0.034, +0.090, +0.211)\n",
      "4:  1000.0  (5%, 25%, 50%, 75%, 95%)=(-0.083, -0.017, +0.033, +0.090, +0.211)\n",
      "5:  10000.  (5%, 25%, 50%, 75%, 95%)=(-0.083, -0.017, +0.033, +0.090, +0.211)\n",
      "\n",
      "Fold 3/5, (train, validate)=(976, 245)=(0.799, 0.201)\n",
      "1:     1.0  (5%, 25%, 50%, 75%, 95%)=(-0.096, -0.027, +0.024, +0.081, +0.209)\n",
      "2:    10.0  (5%, 25%, 50%, 75%, 95%)=(-0.096, -0.026, +0.025, +0.083, +0.211)\n",
      "3:   100.0  (5%, 25%, 50%, 75%, 95%)=(-0.096, -0.026, +0.025, +0.083, +0.213)\n",
      "4:  1000.0  (5%, 25%, 50%, 75%, 95%)=(-0.096, -0.026, +0.025, +0.083, +0.213)\n",
      "5:  10000.  (5%, 25%, 50%, 75%, 95%)=(-0.096, -0.026, +0.025, +0.083, +0.213)\n",
      "\n",
      "Fold 4/5, (train, validate)=(976, 245)=(0.799, 0.201)\n",
      "1:     1.0  (5%, 25%, 50%, 75%, 95%)=(-0.082, -0.013, +0.041, +0.103, +0.240)\n",
      "2:    10.0  (5%, 25%, 50%, 75%, 95%)=(-0.082, -0.013, +0.041, +0.103, +0.241)\n",
      "3:   100.0  (5%, 25%, 50%, 75%, 95%)=(-0.084, -0.014, +0.039, +0.101, +0.236)\n",
      "4:  1000.0  (5%, 25%, 50%, 75%, 95%)=(-0.084, -0.014, +0.039, +0.101, +0.235)\n",
      "5:  10000.  (5%, 25%, 50%, 75%, 95%)=(-0.084, -0.014, +0.039, +0.101, +0.235)\n",
      "\n",
      "Fold 5/5, (train, validate)=(981, 240)=(0.803, 0.197)\n",
      "1:     1.0  (5%, 25%, 50%, 75%, 95%)=(-0.086, -0.016, +0.038, +0.098, +0.222)\n",
      "2:    10.0  (5%, 25%, 50%, 75%, 95%)=(-0.086, -0.016, +0.037, +0.097, +0.222)\n",
      "3:   100.0  (5%, 25%, 50%, 75%, 95%)=(-0.086, -0.015, +0.038, +0.098, +0.224)\n",
      "4:  1000.0  (5%, 25%, 50%, 75%, 95%)=(-0.086, -0.015, +0.038, +0.098, +0.224)\n",
      "5:  10000.  (5%, 25%, 50%, 75%, 95%)=(-0.086, -0.015, +0.038, +0.098, +0.224)\n",
      "\n",
      "Globally-Optimal Ridge: 10.0\n",
      "Locally-Optimal Ridges:\n",
      "       1.0  31719\n",
      "      10.0  18758\n",
      "     100.0  7699\n",
      "    1000.0  547\n",
      "    10000.  34247\n",
      "Fit with globally-optimal parameters\n",
      "Fit with locally-optimal parameters\n",
      "\n",
      "\n",
      "Outer Fold 3/3, (train, validate)=(1222, 610)=(0.667, 0.333)\n",
      "Fitting cross-validated ridge model...\n",
      "- (train, validate, test): (0.534, 0.133, 0.333)\n",
      "- n_folds: 5\n",
      "- using cluster: False\n",
      "- globally optimal parameters: True\n",
      "- locally optimal parameters: True\n",
      "- n_ridges: 5\n",
      "- n_regressors: 116\n",
      "- n_regressands: 92970\n",
      "- n_train_samples: 1222\n",
      "- n_test_samples: 610\n",
      "- inputs: Xtrain, Ytrain, Xtest, Ytest\n",
      "- outputs: weights, predictions\n",
      "- dtype: float64\n",
      "- additional kwargs:\n",
      "    - rescale: True\n",
      "\n",
      "Fold 1/5, (train, validate)=(977, 245)=(0.800, 0.200)\n",
      "1:     1.0  (5%, 25%, 50%, 75%, 95%)=(-0.076, -0.007, +0.045, +0.106, +0.249)\n",
      "2:    10.0  (5%, 25%, 50%, 75%, 95%)=(-0.076, -0.007, +0.045, +0.105, +0.249)\n",
      "3:   100.0  (5%, 25%, 50%, 75%, 95%)=(-0.075, -0.006, +0.047, +0.108, +0.252)\n",
      "4:  1000.0  (5%, 25%, 50%, 75%, 95%)=(-0.075, -0.005, +0.047, +0.108, +0.252)\n",
      "5:  10000.  (5%, 25%, 50%, 75%, 95%)=(-0.075, -0.005, +0.047, +0.108, +0.252)\n",
      "\n",
      "Fold 2/5, (train, validate)=(977, 245)=(0.800, 0.200)\n",
      "1:     1.0  (5%, 25%, 50%, 75%, 95%)=(-0.075, -0.005, +0.048, +0.106, +0.233)\n",
      "2:    10.0  (5%, 25%, 50%, 75%, 95%)=(-0.076, -0.005, +0.047, +0.106, +0.232)\n",
      "3:   100.0  (5%, 25%, 50%, 75%, 95%)=(-0.075, -0.005, +0.047, +0.106, +0.231)\n",
      "4:  1000.0  (5%, 25%, 50%, 75%, 95%)=(-0.075, -0.005, +0.047, +0.106, +0.231)\n",
      "5:  10000.  (5%, 25%, 50%, 75%, 95%)=(-0.075, -0.005, +0.047, +0.106, +0.231)\n",
      "\n",
      "Fold 3/5, (train, validate)=(977, 245)=(0.800, 0.200)\n",
      "1:     1.0  (5%, 25%, 50%, 75%, 95%)=(-0.080, -0.013, +0.038, +0.097, +0.230)\n",
      "2:    10.0  (5%, 25%, 50%, 75%, 95%)=(-0.080, -0.013, +0.039, +0.098, +0.231)\n",
      "3:   100.0  (5%, 25%, 50%, 75%, 95%)=(-0.077, -0.010, +0.042, +0.100, +0.230)\n",
      "4:  1000.0  (5%, 25%, 50%, 75%, 95%)=(-0.077, -0.009, +0.042, +0.100, +0.229)\n",
      "5:  10000.  (5%, 25%, 50%, 75%, 95%)=(-0.077, -0.009, +0.042, +0.100, +0.229)\n",
      "\n",
      "Fold 4/5, (train, validate)=(977, 245)=(0.800, 0.200)\n",
      "1:     1.0  (5%, 25%, 50%, 75%, 95%)=(-0.087, -0.016, +0.039, +0.103, +0.251)\n",
      "2:    10.0  (5%, 25%, 50%, 75%, 95%)=(-0.089, -0.017, +0.037, +0.101, +0.250)\n",
      "3:   100.0  (5%, 25%, 50%, 75%, 95%)=(-0.091, -0.018, +0.036, +0.100, +0.240)\n",
      "4:  1000.0  (5%, 25%, 50%, 75%, 95%)=(-0.091, -0.018, +0.036, +0.099, +0.239)\n",
      "5:  10000.  (5%, 25%, 50%, 75%, 95%)=(-0.091, -0.018, +0.036, +0.099, +0.239)\n",
      "\n",
      "Fold 5/5, (train, validate)=(982, 240)=(0.804, 0.196)\n",
      "1:     1.0  (5%, 25%, 50%, 75%, 95%)=(-0.083, -0.016, +0.035, +0.092, +0.211)\n",
      "2:    10.0  (5%, 25%, 50%, 75%, 95%)=(-0.084, -0.016, +0.034, +0.091, +0.211)\n",
      "3:   100.0  (5%, 25%, 50%, 75%, 95%)=(-0.084, -0.016, +0.034, +0.091, +0.208)\n",
      "4:  1000.0  (5%, 25%, 50%, 75%, 95%)=(-0.084, -0.016, +0.035, +0.091, +0.207)\n",
      "5:  10000.  (5%, 25%, 50%, 75%, 95%)=(-0.084, -0.016, +0.035, +0.091, +0.207)\n",
      "\n",
      "Globally-Optimal Ridge: 1.0\n",
      "Locally-Optimal Ridges:\n",
      "       1.0  34324\n",
      "      10.0  12929\n",
      "     100.0  6543\n",
      "    1000.0  554\n",
      "    10000.  38620\n",
      "Fit with globally-optimal parameters\n",
      "Fit with locally-optimal parameters\n",
      "\n",
      "\n",
      "Outer folds complete, combining results\n",
      "\n",
      "\n",
      "[results]: dict [8]\n",
      "- 'global_optimal_ridge': ndarray (3,)\n",
      "    [  1.00000000e+04   1.00000000e+01   1.00000000e+00]\n",
      "- 'global_performance': ndarray (92970,)\n",
      "- 'global_predictions': ndarray (1832, 92970)\n",
      "- 'global_weights': ndarray (116, 92970)\n",
      "- 'local_optimal_ridge': ndarray (278910,)\n",
      "- 'local_performance': ndarray (92970,)\n",
      "- 'local_predictions': ndarray (1832, 92970)\n",
      "- 'local_weights': ndarray (116, 92970)\n"
     ]
    }
   ],
   "source": [
    "parameters = {\n",
    "    'weights': True,\n",
    "    'predictions': True,\n",
    "    'performance': True,\n",
    "    'ridges': np.logspace(0, 4, 5),\n",
    "    'outer_fold_params': {\n",
    "        'n_folds': 3,\n",
    "    },\n",
    "    'verbose': 2,\n",
    "}\n",
    "\n",
    "results = ridge.nested_cv_ridge(Xtrain, Ytrain, **parameters)\n",
    "\n",
    "print()\n",
    "print()\n",
    "test_utils.rprint(results, 'results')"
   ]
  },
  {
   "cell_type": "markdown",
   "metadata": {
    "ExecuteTime": {
     "end_time": "2016-08-26T23:58:26.725514",
     "start_time": "2016-08-26T23:58:26.722942"
    }
   },
   "source": [
    "# see `ridge/cv.py` for additional options"
   ]
  }
 ],
 "metadata": {
  "hide_input": false,
  "kernelspec": {
   "display_name": "Python 2",
   "language": "python",
   "name": "python2"
  },
  "language_info": {
   "codemirror_mode": {
    "name": "ipython",
    "version": 2
   },
   "file_extension": ".py",
   "mimetype": "text/x-python",
   "name": "python",
   "nbconvert_exporter": "python",
   "pygments_lexer": "ipython2",
   "version": "2.7.6"
  }
 },
 "nbformat": 4,
 "nbformat_minor": 0
}
