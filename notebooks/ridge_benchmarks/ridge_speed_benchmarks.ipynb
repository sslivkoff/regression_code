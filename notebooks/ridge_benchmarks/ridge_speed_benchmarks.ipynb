{
 "cells": [
  {
   "cell_type": "markdown",
   "metadata": {
    "ExecuteTime": {
     "end_time": "2016-08-27T22:13:56.563074",
     "start_time": "2016-08-27T22:13:56.561808"
    }
   },
   "source": [
    "# speed benchmarks on ridge solvers"
   ]
  },
  {
   "cell_type": "code",
   "execution_count": 1,
   "metadata": {
    "ExecuteTime": {
     "end_time": "2016-08-29T20:09:23.903284",
     "start_time": "2016-08-29T20:09:17.094803"
    },
    "collapsed": false
   },
   "outputs": [],
   "source": [
    "from __future__ import print_function\n",
    "\n",
    "import numpy as np\n",
    "\n",
    "from regression_code.storm.tests import test_datasets\n",
    "from regression_code.storm.tests import test_utils\n",
    "from regression_code.storm.ridge.tests import test_ridge"
   ]
  },
  {
   "cell_type": "markdown",
   "metadata": {
    "ExecuteTime": {
     "end_time": "2016-08-27T22:07:21.871848",
     "start_time": "2016-08-27T22:07:21.869208"
    }
   },
   "source": [
    "# load example datasets"
   ]
  },
  {
   "cell_type": "code",
   "execution_count": 2,
   "metadata": {
    "ExecuteTime": {
     "end_time": "2016-08-29T05:38:09.218848",
     "start_time": "2016-08-29T05:37:06.033379"
    },
    "collapsed": false,
    "scrolled": false
   },
   "outputs": [
    {
     "name": "stderr",
     "output_type": "stream",
     "text": [
      "/auto/k1/storm/python_path/storm/storm/utils/stats.py:34: RuntimeWarning: invalid value encountered in divide\n",
      "  return array / array.std(axis, keepdims=True)\n",
      "/usr/local/lib/python2.7/dist-packages/scipy/stats/stats.py:2254: RuntimeWarning: invalid value encountered in true_divide\n",
      "  return (a - mns) / sstd\n"
     ]
    },
    {
     "name": "stdout",
     "output_type": "stream",
     "text": [
      "dict [4]\n",
      "- 'natural_movies_gabor_pyramid': dict [4]\n",
      "    - 'Xtest': ndarray (270, 8556)\n",
      "    - 'Xtrain': ndarray (3600, 8556)\n",
      "    - 'Ytest': ndarray (270, 92836)\n",
      "    - 'Ytrain': ndarray (3600, 92836)\n",
      "- 'natural_movies_mean_gabor': dict [4]\n",
      "    - 'Xtest': ndarray (270, 4)\n",
      "    - 'Xtrain': ndarray (3600, 4)\n",
      "    - 'Ytest': ndarray (270, 92836)\n",
      "    - 'Ytrain': ndarray (3600, 92836)\n",
      "- 'qa_fat': dict [4]\n",
      "    - 'Xtest': ndarray (504, 3940)\n",
      "    - 'Xtrain': ndarray (1832, 3940)\n",
      "    - 'Ytest': ndarray (504, 92970)\n",
      "    - 'Ytrain': ndarray (1832, 92970)\n",
      "- 'qa_skinny': dict [4]\n",
      "    - 'Xtest': ndarray (504, 116)\n",
      "    - 'Xtrain': ndarray (1832, 116)\n",
      "    - 'Ytest': ndarray (504, 92970)\n",
      "    - 'Ytrain': ndarray (1832, 92970)\n"
     ]
    }
   ],
   "source": [
    "use_real_data = True\n",
    "\n",
    "if use_real_data:\n",
    "    real_datasets = test_datasets.load_all(trim_regressands=None)\n",
    "    datasets = real_datasets\n",
    "else:\n",
    "    random_datasets = test_datasets.create_random_datasets(\n",
    "        'small',\n",
    "        n_datasets=3,\n",
    "    )\n",
    "    datasets = random_datasets\n",
    "\n",
    "test_utils.rprint(datasets)"
   ]
  },
  {
   "cell_type": "markdown",
   "metadata": {
    "ExecuteTime": {
     "end_time": "2016-08-27T22:08:29.247303",
     "start_time": "2016-08-27T22:08:29.244328"
    }
   },
   "source": [
    "# solve_ridge() with a single ridge value"
   ]
  },
  {
   "cell_type": "code",
   "execution_count": 3,
   "metadata": {
    "ExecuteTime": {
     "end_time": "2016-08-29T06:26:07.614719",
     "start_time": "2016-08-29T05:38:09.219865"
    },
    "collapsed": false
   },
   "outputs": [
    {
     "name": "stdout",
     "output_type": "stream",
     "text": [
      "Mean Function Times\n",
      "===================\n",
      "\n",
      "qa_fat\n",
      "------\n",
      "- huth.ridge.ridge_corr: 7.984\n",
      "- aone.models.solve_l2_primal: 7.198\n",
      "- aone.models.solve_l2_dual: 5.942\n",
      "- svd: 3.424\n",
      "- eig: 5.749\n",
      "- eig_dual: 2.022\n",
      "- cho: 2.472\n",
      "- cho_dual: 1.685\n",
      "- qr: 3.973\n",
      "- qr_dual: 1.862\n",
      "- lu: 2.685\n",
      "- lu_dual: 1.704\n",
      "- inv: 3.127\n",
      "- inv_dual: 1.8\n",
      "\n",
      "natural_movies_gabor_pyramid\n",
      "----------------------------\n",
      "- huth.ridge.ridge_corr: 29.77\n",
      "- aone.models.solve_l2_primal: 30.25\n",
      "- aone.models.solve_l2_dual: 20.02\n",
      "- svd: 17.66\n",
      "- eig: 45.17\n",
      "- eig_dual: 6.446\n",
      "- cho: 10.32\n",
      "- cho_dual: 3.353\n",
      "- qr: 24.47\n",
      "- qr_dual: 4.711\n",
      "- lu: 11.63\n",
      "- lu_dual: 3.558\n",
      "- inv: 15.3\n",
      "- inv_dual: 4.141\n",
      "\n",
      "natural_movies_mean_gabor\n",
      "-------------------------\n",
      "- huth.ridge.ridge_corr: 1.207\n",
      "- aone.models.solve_l2_primal: 1.032\n",
      "- aone.models.solve_l2_dual: 3.814\n",
      "- svd: 0.9147\n",
      "- eig: 0.9227\n",
      "- eig_dual: 3.704\n",
      "- cho: 0.8994\n",
      "- cho_dual: 2.058\n",
      "- qr: 0.9795\n",
      "- qr_dual: 3.365\n",
      "- lu: 0.9292\n",
      "- lu_dual: 2.27\n",
      "- inv: 0.8824\n",
      "- inv_dual: 2.791\n",
      "\n",
      "qa_skinny\n",
      "---------\n",
      "- huth.ridge.ridge_corr: 1.691\n",
      "- aone.models.solve_l2_primal: 1.024\n",
      "- aone.models.solve_l2_dual: 1.328\n",
      "- svd: 0.7241\n",
      "- eig: 0.6629\n",
      "- eig_dual: 1.033\n",
      "- cho: 0.7057\n",
      "- cho_dual: 1.457\n",
      "- qr: 0.7207\n",
      "- qr_dual: 1.699\n",
      "- lu: 0.7331\n",
      "- lu_dual: 1.545\n",
      "- inv: 0.6926\n",
      "- inv_dual: 1.605\n"
     ]
    },
    {
     "name": "stderr",
     "output_type": "stream",
     "text": [
      "/auto/k1/storm/python_path/repos/regression_code/huth/ridge.py:7: RuntimeWarning: invalid value encountered in divide\n",
      "  zs = lambda v: (v-v.mean(0))/v.std(0) ## z-score function\n"
     ]
    }
   ],
   "source": [
    "common = {\n",
    "    'weights': False,\n",
    "    'predictions': False,\n",
    "    'performance': True,\n",
    "    'ridges': [100],\n",
    "    'verbose': False,\n",
    "    'Ytest_zscored': True,\n",
    "}\n",
    "\n",
    "results = test_utils.benchmark_functions(\n",
    "    functions=test_ridge.ridge_functions,\n",
    "    common=common,\n",
    "    datasets=datasets,\n",
    "    outer_loops=3,\n",
    "    inner_loops=3,\n",
    ")\n",
    "\n",
    "test_utils.print_times(results)"
   ]
  },
  {
   "cell_type": "markdown",
   "metadata": {},
   "source": [
    "# solve_ridge() with 10 ridge values"
   ]
  },
  {
   "cell_type": "code",
   "execution_count": null,
   "metadata": {
    "ExecuteTime": {
     "start_time": "2016-08-29T05:37:02.057Z"
    },
    "collapsed": false
   },
   "outputs": [
    {
     "name": "stdout",
     "output_type": "stream",
     "text": [
      "Mean Function Times\n",
      "===================\n",
      "\n",
      "qa_fat\n",
      "------\n",
      "- huth.ridge.ridge_corr: 23.28\n",
      "- aone.models.solve_l2_primal: 22.66\n",
      "- aone.models.solve_l2_dual: 21.66\n",
      "- svd: 19.58\n",
      "- eig: 21.78\n",
      "- eig_dual: 17.82\n",
      "- cho: 21.62\n",
      "- cho_dual: 14.7\n",
      "- qr: 37.05\n",
      "- qr_dual: 16.92\n",
      "- lu: 23.77\n",
      "- lu_dual: 15.2\n",
      "- inv: 47.09\n",
      "- inv_dual: 16.16\n",
      "\n",
      "natural_movies_gabor_pyramid\n",
      "----------------------------\n",
      "- huth.ridge.ridge_corr: 42.96\n",
      "- aone.models.solve_l2_primal: 43.25\n",
      "- aone.models.solve_l2_dual: 33.8\n",
      "- svd: 41.6\n",
      "- eig: 70.1\n",
      "- eig_dual: 30.56\n",
      "- cho: 72.1\n",
      "- cho_dual: 17.76\n",
      "- qr: 215.6\n",
      "- qr_dual: 30.69\n",
      "- lu: 86.06\n",
      "- lu_dual: 19.95\n",
      "- inv: 169.8\n",
      "- inv_dual: 25.29\n",
      "\n",
      "natural_movies_mean_gabor\n",
      "-------------------------\n",
      "- huth.ridge.ridge_corr: 4.448\n",
      "- aone.models.solve_l2_primal: 4.304\n",
      "- aone.models.solve_l2_dual: 7.098\n",
      "- svd: 2.525\n",
      "- eig: 2.705\n",
      "- eig_dual: 5.32\n",
      "- cho: 4.609\n",
      "- cho_dual: 16.35\n",
      "- qr: 4.637\n",
      "- qr_dual: 28.55\n",
      "- lu: 4.921\n",
      "- lu_dual: 18.21\n",
      "- inv: 2.551\n",
      "- inv_dual: 23.96\n",
      "\n",
      "qa_skinny\n",
      "---------\n",
      "- huth.ridge.ridge_corr: 8.094\n",
      "- aone.models.solve_l2_primal: 7.44\n",
      "- aone.models.solve_l2_dual: 7.718\n",
      "- svd: 3.975\n",
      "- eig: 3.936\n",
      "- eig_dual: 4.25\n",
      "- cho: 7.391\n",
      "- cho_dual: 14.65\n",
      "- qr: 7.302\n",
      "- qr_dual: 16.57\n",
      "- lu: 6.84\n",
      "- lu_dual: 14.72\n",
      "- inv: 3.989\n",
      "- inv_dual: 15.8\n"
     ]
    }
   ],
   "source": [
    "common = {\n",
    "    'weights': False,\n",
    "    'predictions': False,\n",
    "    'performance': True,\n",
    "    'ridges': np.logspace(0, 4, 10),\n",
    "    'verbose': False,\n",
    "    'Ytest_zscored': True,\n",
    "}\n",
    "\n",
    "results = test_utils.benchmark_functions(\n",
    "    functions=test_ridge.ridge_functions,\n",
    "    common=common,\n",
    "    datasets=datasets,\n",
    "    outer_loops=3,\n",
    "    inner_loops=1,\n",
    ")\n",
    "\n",
    "test_utils.print_times(results)"
   ]
  },
  {
   "cell_type": "markdown",
   "metadata": {
    "ExecuteTime": {
     "end_time": "2016-08-29T18:41:06.906445",
     "start_time": "2016-08-29T18:41:06.902139"
    }
   },
   "source": [
    "# comparison of full and reduced gabor pyramids"
   ]
  },
  {
   "cell_type": "code",
   "execution_count": 2,
   "metadata": {
    "ExecuteTime": {
     "end_time": "2016-08-29T20:11:51.531122",
     "start_time": "2016-08-29T20:09:23.907222"
    },
    "collapsed": false
   },
   "outputs": [
    {
     "name": "stdout",
     "output_type": "stream",
     "text": [
      "dict [2]\n",
      "- 'natural_movies_gabor_pyramid_fat': dict [4]\n",
      "    - 'Xtest': ndarray (270, 26220)\n",
      "    - 'Xtrain': ndarray (3600, 26220)\n",
      "    - 'Ytest': ndarray (270, 77267)\n",
      "    - 'Ytrain': ndarray (3600, 77267)\n",
      "- 'natural_movies_gabor_pyramid_skinny': dict [4]\n",
      "    - 'Xtest': ndarray (270, 8556)\n",
      "    - 'Xtrain': ndarray (3600, 8556)\n",
      "    - 'Ytest': ndarray (270, 77267)\n",
      "    - 'Ytrain': ndarray (3600, 77267)\n"
     ]
    }
   ],
   "source": [
    "from regression_code.storm import utils\n",
    "\n",
    "datasets = {}\n",
    "\n",
    "nm_skinny = test_datasets.load_natural_movies(cpd=1.00)\n",
    "for key, value in nm_skinny.items():\n",
    "    datasets[key + '_skinny'] = value\n",
    "nm_fat = test_datasets.load_natural_movies(cpd=1.33)\n",
    "for key, value in nm_fat.items():\n",
    "    datasets[key + '_fat'] = value\n",
    "\n",
    "for dataset_name in list(datasets.keys()):\n",
    "    datasets[dataset_name] = test_datasets.preprocess_dataset(**datasets[dataset_name])\n",
    "\n",
    "datasets = {key: value for key, value in datasets.items() if 'pyramid' in key}\n",
    "    \n",
    "rprint(datasets)"
   ]
  },
  {
   "cell_type": "code",
   "execution_count": 3,
   "metadata": {
    "ExecuteTime": {
     "end_time": "2016-08-30T01:25:35.646544",
     "start_time": "2016-08-29T20:11:51.533649"
    },
    "collapsed": false
   },
   "outputs": [
    {
     "name": "stderr",
     "output_type": "stream",
     "text": [
      "/auto/k1/storm/python_path/repos/regression_code/huth/ridge.py:7: RuntimeWarning: invalid value encountered in divide\n",
      "  zs = lambda v: (v-v.mean(0))/v.std(0) ## z-score function\n",
      "/usr/local/lib/python2.7/dist-packages/scipy/stats/stats.py:2254: RuntimeWarning: invalid value encountered in true_divide\n",
      "  return (a - mns) / sstd\n"
     ]
    },
    {
     "name": "stdout",
     "output_type": "stream",
     "text": [
      "Mean Function Times\n",
      "===================\n",
      "\n",
      "natural_movies_gabor_pyramid_skinny\n",
      "-----------------------------------\n",
      "- huth.ridge.ridge_corr: 63.05\n",
      "- aone.models.solve_l2_primal: 57.76\n",
      "- aone.models.solve_l2_dual: 44.86\n",
      "- svd: 58.82\n",
      "- eig: 100.3\n",
      "- eig_dual: 39.36\n",
      "- cho: 109.5\n",
      "- cho_dual: 22.8\n",
      "- qr: 371.8\n",
      "- qr_dual: 46.08\n",
      "- lu: 126.1\n",
      "- lu_dual: 24.5\n",
      "- inv: 246.3\n",
      "- inv_dual: 32.2\n",
      "\n",
      "natural_movies_gabor_pyramid_fat\n",
      "--------------------------------\n",
      "- huth.ridge.ridge_corr: 72.37\n",
      "- aone.models.solve_l2_primal: 75.49\n",
      "- aone.models.solve_l2_dual: 49.73\n",
      "- svd: 70.79\n",
      "- eig: 1.728e+03\n",
      "- eig_dual: 44.33\n",
      "- cho: 1.261e+03\n",
      "- cho_dual: 26.83\n",
      "- qr: 7.808e+03\n",
      "- qr_dual: 62.36\n",
      "- lu: 1.764e+03\n",
      "- lu_dual: 27.84\n",
      "- inv: 4.45e+03\n",
      "- inv_dual: 38.87\n"
     ]
    }
   ],
   "source": [
    "common = {\n",
    "    'weights': False,\n",
    "    'predictions': False,\n",
    "    'performance': True,\n",
    "    'ridges': np.logspace(0, 4, 10),\n",
    "    'verbose': False,\n",
    "    'Ytest_zscored': True,\n",
    "}\n",
    "\n",
    "results = test_utils.benchmark_functions(\n",
    "    functions=test_ridge.ridge_functions,\n",
    "    common=common,\n",
    "    datasets=datasets,\n",
    "    outer_loops=1,\n",
    "    inner_loops=1,\n",
    ")\n",
    "\n",
    "test_utils.print_times(results)"
   ]
  },
  {
   "cell_type": "markdown",
   "metadata": {},
   "source": [
    "# solve_ridge() with 30 ridge values [incomplete]"
   ]
  },
  {
   "cell_type": "code",
   "execution_count": null,
   "metadata": {
    "ExecuteTime": {
     "start_time": "2016-08-29T05:37:02.058Z"
    },
    "collapsed": false
   },
   "outputs": [],
   "source": [
    "common = {\n",
    "    'weights': False,\n",
    "    'predictions': False,\n",
    "    'performance': True,\n",
    "    'ridges': np.logspace(0, 4, 30),\n",
    "    'verbose': False,\n",
    "    'Ytest_zscored': True,\n",
    "}\n",
    "\n",
    "results = test_utils.benchmark_functions(\n",
    "    functions=test_ridge.ridge_functions,\n",
    "    common=common,\n",
    "    datasets=datasets,\n",
    "    outer_loops=3,\n",
    "    inner_loops=1,\n",
    ")\n",
    "\n",
    "test_utils.print_times(results)"
   ]
  },
  {
   "cell_type": "markdown",
   "metadata": {
    "ExecuteTime": {
     "end_time": "2016-08-27T22:10:48.779885",
     "start_time": "2016-08-27T22:10:48.777191"
    }
   },
   "source": [
    "# cv_ridge() with 10 ridge values and 10 folds [incomplete]"
   ]
  },
  {
   "cell_type": "code",
   "execution_count": null,
   "metadata": {
    "ExecuteTime": {
     "start_time": "2016-08-29T05:37:02.059Z"
    },
    "collapsed": false
   },
   "outputs": [],
   "source": [
    "common = {\n",
    "    'weights': False,\n",
    "    'predictions': False,\n",
    "    'performance': True,\n",
    "    'locality': 'global',\n",
    "    'ridges': np.logspace(0, 4, 10),\n",
    "    'n_folds': 10,\n",
    "    'verbose': False,\n",
    "    'Ytest_zscored': True,\n",
    "}\n",
    "\n",
    "results = test_utils.benchmark_functions(\n",
    "    functions=test_ridge.cv_functions,\n",
    "    common=common,\n",
    "    datasets=datasets,\n",
    "    outer_loops=1,\n",
    "    inner_loops=1,\n",
    ")\n",
    "\n",
    "test_utils.print_times(results)"
   ]
  },
  {
   "cell_type": "markdown",
   "metadata": {
    "ExecuteTime": {
     "start_time": "2016-08-29T06:47:36.756Z"
    }
   },
   "source": [
    "# cv_ridge() with 30 ridge values and 30 folds [incomplete]"
   ]
  },
  {
   "cell_type": "code",
   "execution_count": null,
   "metadata": {
    "ExecuteTime": {
     "start_time": "2016-08-29T05:37:02.060Z"
    },
    "collapsed": false
   },
   "outputs": [],
   "source": [
    "common = {\n",
    "    'weights': False,\n",
    "    'predictions': False,\n",
    "    'performance': True,\n",
    "    'locality': 'global',\n",
    "    'ridges': np.logspace(0, 4, 30),\n",
    "    'n_folds': 30,\n",
    "    'verbose': False,\n",
    "    'Ytest_zscored': True,\n",
    "}\n",
    "\n",
    "results = test_utils.benchmark_functions(\n",
    "    functions=test_ridge.cv_functions,\n",
    "    common=common,\n",
    "    datasets=datasets,\n",
    "    outer_loops=1,\n",
    "    inner_loops=1,\n",
    ")\n",
    "\n",
    "test_utils.print_times(results)"
   ]
  }
 ],
 "metadata": {
  "hide_input": false,
  "kernelspec": {
   "display_name": "Python 2",
   "language": "python",
   "name": "python2"
  },
  "language_info": {
   "codemirror_mode": {
    "name": "ipython",
    "version": 2
   },
   "file_extension": ".py",
   "mimetype": "text/x-python",
   "name": "python",
   "nbconvert_exporter": "python",
   "pygments_lexer": "ipython2",
   "version": "2.7.11+"
  }
 },
 "nbformat": 4,
 "nbformat_minor": 0
}
