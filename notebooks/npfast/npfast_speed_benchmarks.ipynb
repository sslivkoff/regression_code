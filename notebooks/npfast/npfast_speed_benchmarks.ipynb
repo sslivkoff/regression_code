{
 "cells": [
  {
   "cell_type": "markdown",
   "metadata": {},
   "source": [
    "# speed comparison of npfast functions to native np functions\n",
    "- for a description of each function tested, see regression_code.storm.npfast.tests.test_npfast.py\n",
    "- for tests of precision, see regression_code.storm.npfast.tests.npfast_precision_benchmarks.py\n",
    "- test parameters\n",
    "    - each function is applied to each matrix 100 times\n",
    "        - main loop tests each function 10 times in a row\n",
    "        - main loop is run 10 times\n",
    "    - tests performed on dmt01 (mkl, 8 core)\n",
    "- test results:\n",
    "    - absolute times use units of seconds\n",
    "    - for sum and mean, npfast is slower than np for small matrices (< ~1000x1000)\n",
    "    - for large matrices, all npfast operations are significantly faster than np"
   ]
  },
  {
   "cell_type": "code",
   "execution_count": 1,
   "metadata": {
    "ExecuteTime": {
     "end_time": "2016-08-26T23:10:58.201452",
     "start_time": "2016-08-26T23:10:54.666247"
    }
   },
   "outputs": [],
   "source": [
    "from __future__ import print_function\n",
    "\n",
    "import time\n",
    "\n",
    "import numexpr\n",
    "import numpy as np\n",
    "import scipy.stats\n",
    "\n",
    "from regression_code.storm import npfast\n",
    "from regression_code.storm.tests import test_datasets\n",
    "from regression_code.storm.tests import test_utils\n",
    "from regression_code.storm.npfast.tests import test_npfast"
   ]
  },
  {
   "cell_type": "markdown",
   "metadata": {
    "ExecuteTime": {
     "end_time": "2016-08-26T15:34:23.890259",
     "start_time": "2016-08-26T15:34:23.882245"
    }
   },
   "source": [
    "# create test data"
   ]
  },
  {
   "cell_type": "code",
   "execution_count": 2,
   "metadata": {
    "ExecuteTime": {
     "end_time": "2016-08-26T23:11:39.060354",
     "start_time": "2016-08-26T23:10:58.204800"
    }
   },
   "outputs": [
    {
     "name": "stdout",
     "output_type": "stream",
     "text": [
      "[test_matrices]: dict [3]\n",
      "- 'big': list [3]\n",
      "    - ndarray (1000, 100000)\n",
      "    - ndarray (4000, 100000)\n",
      "    - ndarray (10000, 100000)\n",
      "- 'medium': list [4]\n",
      "    - ndarray (250, 10000)\n",
      "    - ndarray (500, 10000)\n",
      "    - ndarray (1000, 10000)\n",
      "    - ndarray (2000, 10000)\n",
      "- 'small': list [4]\n",
      "    - ndarray (100, 1000)\n",
      "    - ndarray (200, 1000)\n",
      "    - ndarray (400, 1000)\n",
      "    - ndarray (800, 1000)\n"
     ]
    }
   ],
   "source": [
    "test_matrices = test_datasets.create_random_single_matrices()\n",
    "\n",
    "test_utils.rprint(test_matrices, 'test_matrices')"
   ]
  },
  {
   "cell_type": "markdown",
   "metadata": {
    "ExecuteTime": {
     "end_time": "2016-07-20T00:52:01.626158",
     "start_time": "2016-07-20T00:52:01.623607"
    }
   },
   "source": [
    "# sum"
   ]
  },
  {
   "cell_type": "code",
   "execution_count": 3,
   "metadata": {
    "ExecuteTime": {
     "end_time": "2016-08-26T23:13:40.552473",
     "start_time": "2016-08-26T23:11:39.061433"
    }
   },
   "outputs": [],
   "source": [
    "sum_results = test_npfast.compute_time_results(\n",
    "    test_matrices,\n",
    "    test_npfast.sum_functions,\n",
    ")"
   ]
  },
  {
   "cell_type": "code",
   "execution_count": 4,
   "metadata": {
    "ExecuteTime": {
     "end_time": "2016-08-26T23:13:40.563861",
     "start_time": "2016-08-26T23:13:40.557081"
    }
   },
   "outputs": [
    {
     "name": "stdout",
     "output_type": "stream",
     "text": [
      "\n",
      "Matrix Set: small\n",
      "=================\n",
      "\n",
      "Absolute Times\n",
      "--------------\n",
      "                100x1000      200x1000      400x1000      800x1000\n",
      "    np.sum    3.8435e-05    6.2935e-05    0.00012215    0.00024306\n",
      "thread_sum     0.0064512      0.007456     0.0063118      0.005515\n",
      "   dot_sum     0.0021286    2.4316e-05    4.0698e-05    5.5978e-05\n",
      "\n",
      "\n",
      "Relative Times\n",
      "--------------\n",
      "                100x1000      200x1000      400x1000      800x1000\n",
      "    np.sum           1.0           1.0           1.0           1.0\n",
      "thread_sum        167.84        118.47        51.672         22.69\n",
      "   dot_sum         55.38       0.38637       0.33318        0.2303\n",
      "\n",
      "\n",
      "\n",
      "Matrix Set: medium\n",
      "==================\n",
      "\n",
      "Absolute Times\n",
      "--------------\n",
      "               250x10000     500x10000    1000x10000    2000x10000\n",
      "    np.sum    0.00088425     0.0029563     0.0047575     0.0088456\n",
      "thread_sum      0.017091      0.020636      0.024149      0.024371\n",
      "   dot_sum     0.0014081     0.0016399     0.0018929      0.002377\n",
      "\n",
      "\n",
      "Relative Times\n",
      "--------------\n",
      "               250x10000     500x10000    1000x10000    2000x10000\n",
      "    np.sum           1.0           1.0           1.0           1.0\n",
      "thread_sum        19.328        6.9805         5.076        2.7551\n",
      "   dot_sum        1.5924       0.55471       0.39787       0.26873\n",
      "\n",
      "\n",
      "\n",
      "Matrix Set: big\n",
      "===============\n",
      "\n",
      "Absolute Times\n",
      "--------------\n",
      "             1000x100000   4000x100000  10000x100000\n",
      "    np.sum      0.047642       0.17869       0.45122\n",
      "thread_sum      0.029529      0.069668       0.13193\n",
      "   dot_sum       0.01262      0.044622       0.10947\n",
      "\n",
      "\n",
      "Relative Times\n",
      "--------------\n",
      "             1000x100000   4000x100000  10000x100000\n",
      "    np.sum           1.0           1.0           1.0\n",
      "thread_sum       0.61981       0.38989       0.29237\n",
      "   dot_sum       0.26488       0.24972       0.24262\n",
      "\n",
      "\n",
      "\n"
     ]
    }
   ],
   "source": [
    "test_npfast.tabulate_time_results(\n",
    "    sum_results,\n",
    "    test_matrices,\n",
    "    test_npfast.sum_functions,\n",
    ")"
   ]
  },
  {
   "cell_type": "markdown",
   "metadata": {
    "ExecuteTime": {
     "end_time": "2016-07-20T00:51:54.438125",
     "start_time": "2016-07-20T00:51:54.435622"
    }
   },
   "source": [
    "# mean"
   ]
  },
  {
   "cell_type": "code",
   "execution_count": 5,
   "metadata": {
    "ExecuteTime": {
     "end_time": "2016-08-26T23:15:09.500703",
     "start_time": "2016-08-26T23:13:40.567313"
    },
    "collapsed": true
   },
   "outputs": [],
   "source": [
    "mean_results = test_npfast.compute_time_results(\n",
    "    test_matrices,\n",
    "    test_npfast.mean_functions,\n",
    ")"
   ]
  },
  {
   "cell_type": "code",
   "execution_count": 6,
   "metadata": {
    "ExecuteTime": {
     "end_time": "2016-08-26T23:15:09.510651",
     "start_time": "2016-08-26T23:15:09.505321"
    }
   },
   "outputs": [
    {
     "name": "stdout",
     "output_type": "stream",
     "text": [
      "\n",
      "Matrix Set: small\n",
      "=================\n",
      "\n",
      "Absolute Times\n",
      "--------------\n",
      "              100x1000      200x1000      400x1000      800x1000\n",
      " np.mean    3.8512e-05    5.6632e-05    9.9292e-05    0.00017665\n",
      "dot_mean    2.6317e-05    2.5761e-05    4.2188e-05    6.4394e-05\n",
      "\n",
      "\n",
      "Relative Times\n",
      "--------------\n",
      "              100x1000      200x1000      400x1000      800x1000\n",
      " np.mean           1.0           1.0           1.0           1.0\n",
      "dot_mean       0.68334       0.45489       0.42489       0.36452\n",
      "\n",
      "\n",
      "\n",
      "Matrix Set: medium\n",
      "==================\n",
      "\n",
      "Absolute Times\n",
      "--------------\n",
      "             250x10000     500x10000    1000x10000    2000x10000\n",
      " np.mean    0.00092029     0.0020326     0.0042749     0.0080553\n",
      "dot_mean       0.00041     0.0014811     0.0016804     0.0031063\n",
      "\n",
      "\n",
      "Relative Times\n",
      "--------------\n",
      "             250x10000     500x10000    1000x10000    2000x10000\n",
      " np.mean           1.0           1.0           1.0           1.0\n",
      "dot_mean       0.44551        0.7287       0.39308       0.38562\n",
      "\n",
      "\n",
      "\n",
      "Matrix Set: big\n",
      "===============\n",
      "\n",
      "Absolute Times\n",
      "--------------\n",
      "           1000x100000   4000x100000  10000x100000\n",
      " np.mean      0.046801       0.18504       0.46221\n",
      "dot_mean      0.012181      0.046062       0.11421\n",
      "\n",
      "\n",
      "Relative Times\n",
      "--------------\n",
      "           1000x100000   4000x100000  10000x100000\n",
      " np.mean           1.0           1.0           1.0\n",
      "dot_mean       0.26028       0.24893        0.2471\n",
      "\n",
      "\n",
      "\n"
     ]
    }
   ],
   "source": [
    "test_npfast.tabulate_time_results(\n",
    "    mean_results,\n",
    "    test_matrices,\n",
    "    test_npfast.mean_functions,\n",
    ")"
   ]
  },
  {
   "cell_type": "markdown",
   "metadata": {},
   "source": [
    "# std"
   ]
  },
  {
   "cell_type": "code",
   "execution_count": 7,
   "metadata": {
    "ExecuteTime": {
     "end_time": "2016-08-26T23:40:26.648532",
     "start_time": "2016-08-26T23:15:09.515001"
    },
    "collapsed": true
   },
   "outputs": [],
   "source": [
    "std_results = test_npfast.compute_time_results(\n",
    "    test_matrices,\n",
    "    test_npfast.std_functions,\n",
    ")"
   ]
  },
  {
   "cell_type": "code",
   "execution_count": 8,
   "metadata": {
    "ExecuteTime": {
     "end_time": "2016-08-26T23:40:26.655632",
     "start_time": "2016-08-26T23:40:26.650722"
    }
   },
   "outputs": [
    {
     "name": "stdout",
     "output_type": "stream",
     "text": [
      "\n",
      "Matrix Set: small\n",
      "=================\n",
      "\n",
      "Absolute Times\n",
      "--------------\n",
      "                              100x1000      200x1000      400x1000      800x1000\n",
      "                  np.std    0.00066489    0.00087406     0.0010557      0.001632\n",
      "          arithmetic_std    0.00052036    0.00071788    0.00098798     0.0017626\n",
      "                 dot_std    0.00039404    0.00057585     0.0011543    0.00098377\n",
      "         dot_std_inplace    0.00042077    0.00040123    0.00067833    0.00098361\n",
      "             numexpr_std    0.00048243    0.00055937     0.0011042     0.0018497\n",
      "        dot_std_demeaned    0.00028901    0.00031125    0.00041497    0.00072337\n",
      "dot_std_inplace_demeaned    0.00030629    0.00030851    0.00043909    0.00081434\n",
      "    numexpr_std_demeaned    0.00036021    0.00038046    0.00047732    0.00080855\n",
      "\n",
      "\n",
      "Relative Times\n",
      "--------------\n",
      "                              100x1000      200x1000      400x1000      800x1000\n",
      "                  np.std           1.0           1.0           1.0           1.0\n",
      "          arithmetic_std       0.78262       0.82131       0.93582          1.08\n",
      "                 dot_std       0.59264       0.65882        1.0934       0.60279\n",
      "         dot_std_inplace       0.63284       0.45904       0.64252       0.60269\n",
      "             numexpr_std       0.72558       0.63997        1.0459        1.1334\n",
      "        dot_std_demeaned       0.43467        0.3561       0.39306       0.44323\n",
      "dot_std_inplace_demeaned       0.46066       0.35297       0.41591       0.49897\n",
      "    numexpr_std_demeaned       0.54176       0.43528       0.45212       0.49542\n",
      "\n",
      "\n",
      "\n",
      "Matrix Set: medium\n",
      "==================\n",
      "\n",
      "Absolute Times\n",
      "--------------\n",
      "                             250x10000     500x10000    1000x10000    2000x10000\n",
      "                  np.std     0.0061365      0.012036      0.023922      0.043123\n",
      "          arithmetic_std       0.00651      0.015249      0.027053      0.051959\n",
      "                 dot_std     0.0072078     0.0060937      0.014177      0.024191\n",
      "         dot_std_inplace     0.0041262     0.0056038     0.0099864      0.018251\n",
      "             numexpr_std     0.0034501     0.0058175      0.013887      0.023109\n",
      "        dot_std_demeaned     0.0030304     0.0072946      0.010978      0.022559\n",
      "dot_std_inplace_demeaned     0.0027666     0.0042456     0.0080116      0.011792\n",
      "    numexpr_std_demeaned     0.0020223     0.0037367      0.010478      0.018753\n",
      "\n",
      "\n",
      "Relative Times\n",
      "--------------\n",
      "                             250x10000     500x10000    1000x10000    2000x10000\n",
      "                  np.std           1.0           1.0           1.0           1.0\n",
      "          arithmetic_std        1.0609         1.267        1.1309        1.2049\n",
      "                 dot_std        1.1746        0.5063       0.59264       0.56097\n",
      "         dot_std_inplace       0.67241       0.46561       0.41746       0.42324\n",
      "             numexpr_std       0.56222       0.48336        0.5805       0.53589\n",
      "        dot_std_demeaned       0.49384       0.60609       0.45889       0.52314\n",
      "dot_std_inplace_demeaned       0.45084       0.35275       0.33491       0.27346\n",
      "    numexpr_std_demeaned       0.32956       0.31047       0.43803       0.43488\n",
      "\n",
      "\n",
      "\n",
      "Matrix Set: big\n",
      "===============\n",
      "\n",
      "Absolute Times\n",
      "--------------\n",
      "                           1000x100000   4000x100000  10000x100000\n",
      "                  np.std       0.23244       0.93619         2.433\n",
      "          arithmetic_std       0.26751        1.0651        2.8271\n",
      "                 dot_std       0.11233       0.42895        1.0459\n",
      "         dot_std_inplace      0.082346       0.32396       0.77524\n",
      "             numexpr_std      0.099648       0.33871       0.69472\n",
      "        dot_std_demeaned       0.10274       0.39848        0.9497\n",
      "dot_std_inplace_demeaned      0.054679        0.2258       0.54465\n",
      "    numexpr_std_demeaned      0.063208       0.21712       0.50009\n",
      "\n",
      "\n",
      "Relative Times\n",
      "--------------\n",
      "                           1000x100000   4000x100000  10000x100000\n",
      "                  np.std           1.0           1.0           1.0\n",
      "          arithmetic_std        1.1509        1.1377         1.162\n",
      "                 dot_std       0.48328       0.45819       0.42986\n",
      "         dot_std_inplace       0.35427       0.34605       0.31863\n",
      "             numexpr_std        0.4287        0.3618       0.28554\n",
      "        dot_std_demeaned       0.44201       0.42564       0.39033\n",
      "dot_std_inplace_demeaned       0.23524       0.24119       0.22386\n",
      "    numexpr_std_demeaned       0.27193       0.23191       0.20554\n",
      "\n",
      "\n",
      "\n"
     ]
    }
   ],
   "source": [
    "test_npfast.tabulate_time_results(\n",
    "    std_results,\n",
    "    test_matrices,\n",
    "    test_npfast.std_functions,\n",
    ")"
   ]
  },
  {
   "cell_type": "markdown",
   "metadata": {
    "ExecuteTime": {
     "end_time": "2016-07-19T18:38:57.429690",
     "start_time": "2016-07-19T18:38:57.427017"
    }
   },
   "source": [
    "# zscore"
   ]
  },
  {
   "cell_type": "code",
   "execution_count": 9,
   "metadata": {
    "ExecuteTime": {
     "end_time": "2016-08-27T00:48:01.790758",
     "start_time": "2016-08-26T23:40:26.657985"
    }
   },
   "outputs": [
    {
     "name": "stderr",
     "output_type": "stream",
     "text": [
      "/usr/local/lib/python2.7/dist-packages/scipy/stats/stats.py:2254: RuntimeWarning: invalid value encountered in true_divide\n",
      "  return (a - mns) / sstd\n",
      "/auto/k1/storm/python_path/repos/regression_code/storm/npfast/tests/test_npfast.py:41: RuntimeWarning: invalid value encountered in divide\n",
      "  ['np_arithmetic', lambda X: (X - X.mean(0)) / X.std(0)],\n",
      "/auto/k1/storm/python_path/repos/regression_code/storm/npfast/npfast.py:325: RuntimeWarning: invalid value encountered in divide\n",
      "  return (X - dot_mean(X, axis=axis)) / dot_std(X, axis=axis)\n",
      "/auto/k1/storm/python_path/repos/regression_code/storm/npfast/npfast.py:392: RuntimeWarning: invalid value encountered in divide\n",
      "  X /= dot_std(X, axis=axis, demean=False)\n"
     ]
    }
   ],
   "source": [
    "zscore_results = test_npfast.compute_time_results(\n",
    "    test_matrices,\n",
    "    test_npfast.zscore_functions,\n",
    ")"
   ]
  },
  {
   "cell_type": "code",
   "execution_count": 10,
   "metadata": {
    "ExecuteTime": {
     "end_time": "2016-08-27T00:48:01.804352",
     "start_time": "2016-08-27T00:48:01.796184"
    }
   },
   "outputs": [
    {
     "name": "stdout",
     "output_type": "stream",
     "text": [
      "\n",
      "Matrix Set: small\n",
      "=================\n",
      "\n",
      "Absolute Times\n",
      "--------------\n",
      "                              100x1000      200x1000      400x1000      800x1000\n",
      "            scipy.zscore    0.00075774    0.00090483     0.0015254     0.0030792\n",
      "           np_arithmetic    0.00084754    0.00094026     0.0014719     0.0032721\n",
      "                     dot      0.001005    0.00061288     0.0010645     0.0018892\n",
      "             dot_inplace    0.00038603     0.0005959    0.00089391     0.0017489\n",
      "     arithmetic_demeaned    0.00028709    0.00050362     0.0011099     0.0018977\n",
      "            dot_demeaned    0.00036931    0.00037931    0.00072983     0.0013024\n",
      "    dot_inplace_demeaned    0.00015157    0.00039869    0.00075939     0.0013243\n",
      "                 numexpr    0.00089875     0.0027096     0.0016729      0.002867\n",
      "        numexpr_demeaned    0.00070606    0.00091008     0.0013744     0.0045334\n",
      "         numexpr_inplace    0.00084291    0.00095556     0.0019797     0.0043187\n",
      "numexpr_inplace_demeaned    0.00065061    0.00086534     0.0012913     0.0026208\n",
      "\n",
      "\n",
      "Relative Times\n",
      "--------------\n",
      "                              100x1000      200x1000      400x1000      800x1000\n",
      "            scipy.zscore           1.0           1.0           1.0           1.0\n",
      "           np_arithmetic        1.1185        1.0392       0.96488        1.0626\n",
      "                     dot        1.3263       0.67734       0.69782       0.61351\n",
      "             dot_inplace       0.50945       0.65857       0.58601       0.56798\n",
      "     arithmetic_demeaned       0.37888       0.55659       0.72758       0.61628\n",
      "            dot_demeaned       0.48738       0.41921       0.47844       0.42295\n",
      "    dot_inplace_demeaned       0.20004       0.44063       0.49782       0.43008\n",
      "                 numexpr        1.1861        2.9946        1.0967       0.93107\n",
      "        numexpr_demeaned        0.9318        1.0058       0.90099        1.4722\n",
      "         numexpr_inplace        1.1124        1.0561        1.2978        1.4025\n",
      "numexpr_inplace_demeaned       0.85861       0.95636       0.84654       0.85112\n",
      "\n",
      "\n",
      "\n",
      "Matrix Set: medium\n",
      "==================\n",
      "\n",
      "Absolute Times\n",
      "--------------\n",
      "                             250x10000     500x10000    1000x10000    2000x10000\n",
      "            scipy.zscore     0.0098424      0.023119      0.045117      0.082803\n",
      "           np_arithmetic      0.009507      0.021575      0.043083      0.085774\n",
      "                     dot     0.0079812      0.016545      0.033453      0.066227\n",
      "             dot_inplace     0.0050822      0.011766      0.024402      0.045445\n",
      "     arithmetic_demeaned     0.0059418      0.014123      0.034143      0.059236\n",
      "            dot_demeaned     0.0082124     0.0083401      0.021608      0.044117\n",
      "    dot_inplace_demeaned      0.004291     0.0081265      0.017094      0.032314\n",
      "                 numexpr     0.0093924      0.014889      0.034322      0.064482\n",
      "        numexpr_demeaned      0.010827      0.015699      0.030688      0.051205\n",
      "         numexpr_inplace       0.01377      0.017403      0.030368      0.055014\n",
      "numexpr_inplace_demeaned     0.0091096      0.014312      0.027211      0.047696\n",
      "\n",
      "\n",
      "Relative Times\n",
      "--------------\n",
      "                             250x10000     500x10000    1000x10000    2000x10000\n",
      "            scipy.zscore           1.0           1.0           1.0           1.0\n",
      "           np_arithmetic       0.96592       0.93319       0.95493        1.0359\n",
      "                     dot        0.8109       0.71562       0.74146       0.79982\n",
      "             dot_inplace       0.51636       0.50892       0.54087       0.54883\n",
      "     arithmetic_demeaned        0.6037       0.61088       0.75676       0.71539\n",
      "            dot_demeaned       0.83439       0.36074       0.47894       0.53279\n",
      "    dot_inplace_demeaned       0.43597        0.3515       0.37887       0.39026\n",
      "                 numexpr       0.95428       0.64401       0.76073       0.77875\n",
      "        numexpr_demeaned           1.1       0.67902       0.68019        0.6184\n",
      "         numexpr_inplace        1.3991       0.75273        0.6731        0.6644\n",
      "numexpr_inplace_demeaned       0.92555       0.61904       0.60312       0.57602\n",
      "\n",
      "\n",
      "\n",
      "Matrix Set: big\n",
      "===============\n",
      "\n",
      "Absolute Times\n",
      "--------------\n",
      "                           1000x100000   4000x100000  10000x100000\n",
      "            scipy.zscore        0.4504        1.7784        4.3857\n",
      "           np_arithmetic       0.44146        1.7492        4.3522\n",
      "                     dot       0.31592        1.1876        2.9178\n",
      "             dot_inplace       0.21912       0.84798        2.0589\n",
      "     arithmetic_demeaned       0.30818        1.2291        3.0316\n",
      "            dot_demeaned       0.20543       0.78664        1.9059\n",
      "    dot_inplace_demeaned        0.1558       0.58836        1.4405\n",
      "                 numexpr       0.22592       0.72247        1.4992\n",
      "        numexpr_demeaned       0.18943       0.62192        1.2843\n",
      "         numexpr_inplace       0.22362       0.68795        1.4357\n",
      "numexpr_inplace_demeaned       0.18543       0.60005        1.2234\n",
      "\n",
      "\n",
      "Relative Times\n",
      "--------------\n",
      "                           1000x100000   4000x100000  10000x100000\n",
      "            scipy.zscore           1.0           1.0           1.0\n",
      "           np_arithmetic       0.98015       0.98357       0.99236\n",
      "                     dot       0.70141       0.66777        0.6653\n",
      "             dot_inplace        0.4865       0.47681       0.46946\n",
      "     arithmetic_demeaned       0.68424       0.69113       0.69125\n",
      "            dot_demeaned       0.45609       0.44232       0.43456\n",
      "    dot_inplace_demeaned       0.34592       0.33083       0.32844\n",
      "                 numexpr        0.5016       0.40624       0.34184\n",
      "        numexpr_demeaned       0.42058        0.3497       0.29284\n",
      "         numexpr_inplace       0.49649       0.38683       0.32736\n",
      "numexpr_inplace_demeaned       0.41169       0.33741       0.27894\n",
      "\n",
      "\n",
      "\n"
     ]
    }
   ],
   "source": [
    "test_npfast.tabulate_time_results(\n",
    "    zscore_results,\n",
    "    test_matrices,\n",
    "    test_npfast.zscore_functions,\n",
    ")"
   ]
  },
  {
   "cell_type": "markdown",
   "metadata": {
    "ExecuteTime": {
     "end_time": "2016-07-19T18:43:50.887189",
     "start_time": "2016-07-19T18:43:50.884503"
    }
   },
   "source": [
    "# correlation"
   ]
  },
  {
   "cell_type": "code",
   "execution_count": 16,
   "metadata": {
    "ExecuteTime": {
     "end_time": "2016-08-27T03:41:50.941330",
     "start_time": "2016-08-27T01:39:54.992659"
    }
   },
   "outputs": [
    {
     "name": "stderr",
     "output_type": "stream",
     "text": [
      "/auto/k1/storm/python_path/repos/regression_code/storm/npfast/npfast.py:417: RuntimeWarning: overflow encountered in multiply\n",
      "  X1 *= X2\n",
      "/usr/local/lib/python2.7/dist-packages/numpy/core/_methods.py:101: RuntimeWarning: invalid value encountered in subtract\n",
      "  x = asanyarray(arr - arrmean)\n",
      "/usr/local/lib/python2.7/dist-packages/scipy/stats/stats.py:2254: RuntimeWarning: invalid value encountered in subtract\n",
      "  return (a - mns) / sstd\n",
      "/auto/k1/storm/python_path/repos/regression_code/storm/npfast/tests/test_npfast.py:57: RuntimeWarning: invalid value encountered in subtract\n",
      "  ['arithmetic', lambda X, Y: (((X - X.mean(0)) / X.std(0)) * ((Y - Y.mean(0)) / Y.std(0))).mean(0)],\n",
      "/auto/k1/storm/python_path/repos/regression_code/storm/npfast/npfast.py:325: RuntimeWarning: invalid value encountered in subtract\n",
      "  return (X - dot_mean(X, axis=axis)) / dot_std(X, axis=axis)\n",
      "/auto/k1/storm/python_path/repos/regression_code/storm/npfast/npfast.py:309: RuntimeWarning: invalid value encountered in subtract\n",
      "  X_std -= dot_sum(X, axis=axis) ** 2 / X.shape[axis]\n",
      "/auto/k1/storm/python_path/repos/regression_code/storm/npfast/npfast.py:391: RuntimeWarning: invalid value encountered in subtract\n",
      "  X -= dot_mean(X, axis=axis)\n"
     ]
    }
   ],
   "source": [
    "correlation_results = test_npfast.compute_time_results(\n",
    "    test_matrices,\n",
    "    test_npfast.correlation_functions,\n",
    "    two_arg=True,\n",
    ")"
   ]
  },
  {
   "cell_type": "code",
   "execution_count": 17,
   "metadata": {
    "ExecuteTime": {
     "end_time": "2016-08-27T03:41:50.951444",
     "start_time": "2016-08-27T03:41:50.943730"
    }
   },
   "outputs": [
    {
     "name": "stdout",
     "output_type": "stream",
     "text": [
      "\n",
      "Matrix Set: small\n",
      "=================\n",
      "\n",
      "Absolute Times\n",
      "--------------\n",
      "                          100x1000      200x1000      400x1000      800x1000\n",
      "        scipy_zscore     0.0012048     0.0015308     0.0031849      0.006504\n",
      "          arithmetic    0.00093101     0.0015468     0.0032616     0.0071509\n",
      "                 dot     0.0015327     0.0012542     0.0020842     0.0069018\n",
      "         dot_inplace     0.0008838     0.0014453     0.0023018     0.0043241\n",
      "             numexpr     0.0013132     0.0014174      0.002359     0.0035828\n",
      "arithmetic_1_zscored    0.00067337     0.0010723     0.0019043     0.0031947\n",
      "   inplace_1_zscored    0.00043566    0.00059172     0.0010318     0.0017822\n",
      "arithmetic_2_zscored    8.1575e-05    0.00014355    0.00030577    0.00052166\n",
      "   inplace_2_zscored    0.00013853     0.0001413    0.00025191    0.00045202\n",
      "   numexpr_1_zscored    0.00056565    0.00073993     0.0010418     0.0021473\n",
      "   numexpr_2_zscored    0.00020582    0.00021449    0.00031353    0.00042427\n",
      "\n",
      "\n",
      "Relative Times\n",
      "--------------\n",
      "                          100x1000      200x1000      400x1000      800x1000\n",
      "        scipy_zscore           1.0           1.0           1.0           1.0\n",
      "          arithmetic       0.77272        1.0105        1.0241        1.0995\n",
      "                 dot        1.2722       0.81931       0.65441        1.0612\n",
      "         dot_inplace       0.73354       0.94413       0.72274       0.66484\n",
      "             numexpr        1.0899       0.92588       0.74067       0.55086\n",
      "arithmetic_1_zscored       0.55889       0.70047       0.59791       0.49118\n",
      "   inplace_1_zscored       0.36159       0.38654       0.32396       0.27401\n",
      "arithmetic_2_zscored      0.067706      0.093773      0.096006      0.080207\n",
      "   inplace_2_zscored       0.11498      0.092304      0.079096      0.069498\n",
      "   numexpr_1_zscored       0.46948       0.48336        0.3271       0.33015\n",
      "   numexpr_2_zscored       0.17083       0.14012      0.098442      0.065232\n",
      "\n",
      "\n",
      "\n",
      "Matrix Set: medium\n",
      "==================\n",
      "\n",
      "Absolute Times\n",
      "--------------\n",
      "                         250x10000     500x10000    1000x10000    2000x10000\n",
      "        scipy_zscore       0.02172      0.048138       0.10242       0.19318\n",
      "          arithmetic      0.021466      0.046485       0.10211       0.19646\n",
      "                 dot      0.015408      0.039869      0.078938       0.15099\n",
      "         dot_inplace      0.015548      0.026889       0.05596       0.10679\n",
      "             numexpr      0.018339      0.029698      0.057128       0.11126\n",
      "arithmetic_1_zscored      0.013103      0.029858      0.060245       0.11152\n",
      "   inplace_1_zscored     0.0066994      0.014054      0.029201      0.057461\n",
      "arithmetic_2_zscored     0.0023925     0.0061289      0.014819      0.023932\n",
      "   inplace_2_zscored     0.0018798     0.0034391     0.0059089      0.011995\n",
      "   numexpr_1_zscored      0.012154      0.016551      0.042922      0.072542\n",
      "   numexpr_2_zscored     0.0036772     0.0038526      0.010813      0.019243\n",
      "\n",
      "\n",
      "Relative Times\n",
      "--------------\n",
      "                         250x10000     500x10000    1000x10000    2000x10000\n",
      "        scipy_zscore           1.0           1.0           1.0           1.0\n",
      "          arithmetic        0.9883       0.96566       0.99702         1.017\n",
      "                 dot       0.70937       0.82821       0.77076        0.7816\n",
      "         dot_inplace       0.71586       0.55859        0.5464       0.55279\n",
      "             numexpr       0.84433       0.61694        0.5578       0.57596\n",
      "arithmetic_1_zscored       0.60326       0.62024       0.58824        0.5773\n",
      "   inplace_1_zscored       0.30844       0.29196       0.28512       0.29745\n",
      "arithmetic_2_zscored       0.11015       0.12732        0.1447       0.12388\n",
      "   inplace_2_zscored      0.086545      0.071441      0.057695      0.062092\n",
      "   numexpr_1_zscored       0.55955       0.34381        0.4191       0.37551\n",
      "   numexpr_2_zscored        0.1693      0.080032       0.10558      0.099611\n",
      "\n",
      "\n",
      "\n",
      "Matrix Set: big\n",
      "===============\n",
      "\n",
      "Absolute Times\n",
      "--------------\n",
      "                       1000x100000   4000x100000  10000x100000\n",
      "        scipy_zscore        1.0558        4.0844        10.386\n",
      "          arithmetic        1.0369        4.0905        10.148\n",
      "                 dot       0.71526        2.6552        6.5385\n",
      "         dot_inplace       0.49945        1.9007        4.6411\n",
      "             numexpr       0.40702        1.2636        2.7126\n",
      "arithmetic_1_zscored       0.59988          2.36        5.8146\n",
      "   inplace_1_zscored       0.28225         1.063         2.575\n",
      "arithmetic_2_zscored       0.12373        0.4925        1.2249\n",
      "   inplace_2_zscored      0.054004       0.21985       0.54287\n",
      "   numexpr_1_zscored       0.26741       0.80514        1.7227\n",
      "   numexpr_2_zscored      0.067837       0.22327       0.49837\n",
      "\n",
      "\n",
      "Relative Times\n",
      "--------------\n",
      "                       1000x100000   4000x100000  10000x100000\n",
      "        scipy_zscore           1.0           1.0           1.0\n",
      "          arithmetic        0.9821        1.0015       0.97705\n",
      "                 dot       0.67745       0.65007       0.62953\n",
      "         dot_inplace       0.47305       0.46536       0.44684\n",
      "             numexpr        0.3855       0.30937       0.26117\n",
      "arithmetic_1_zscored       0.56817       0.57781       0.55983\n",
      "   inplace_1_zscored       0.26733       0.26026       0.24792\n",
      "arithmetic_2_zscored       0.11719       0.12058       0.11794\n",
      "   inplace_2_zscored      0.051149      0.053827      0.052268\n",
      "   numexpr_1_zscored       0.25328       0.19713       0.16586\n",
      "   numexpr_2_zscored      0.064251      0.054665      0.047983\n",
      "\n",
      "\n",
      "\n"
     ]
    }
   ],
   "source": [
    "test_npfast.tabulate_time_results(\n",
    "    correlation_results,\n",
    "    test_matrices,\n",
    "    test_npfast.correlation_functions,\n",
    ")"
   ]
  },
  {
   "cell_type": "markdown",
   "metadata": {
    "ExecuteTime": {
     "end_time": "2016-08-26T15:39:58.115943",
     "start_time": "2016-08-26T15:39:58.110877"
    }
   },
   "source": [
    "# isnan"
   ]
  },
  {
   "cell_type": "code",
   "execution_count": 18,
   "metadata": {
    "ExecuteTime": {
     "end_time": "2016-08-27T03:43:29.439998",
     "start_time": "2016-08-27T03:41:50.954426"
    },
    "collapsed": true
   },
   "outputs": [],
   "source": [
    "isnan_results = test_npfast.compute_time_results(\n",
    "    test_matrices,\n",
    "    test_npfast.isnan_functions,\n",
    ")"
   ]
  },
  {
   "cell_type": "code",
   "execution_count": 19,
   "metadata": {
    "ExecuteTime": {
     "end_time": "2016-08-27T03:43:29.451061",
     "start_time": "2016-08-27T03:43:29.444712"
    }
   },
   "outputs": [
    {
     "name": "stdout",
     "output_type": "stream",
     "text": [
      "\n",
      "Matrix Set: small\n",
      "=================\n",
      "\n",
      "Absolute Times\n",
      "--------------\n",
      "                   100x1000      200x1000      400x1000      800x1000\n",
      "     np.isnan    2.3212e-05    4.0796e-05    7.3686e-05    0.00014253\n",
      "numexpr_isnan    0.00016331    0.00022569    0.00039826    0.00072577\n",
      "\n",
      "\n",
      "Relative Times\n",
      "--------------\n",
      "                   100x1000      200x1000      400x1000      800x1000\n",
      "     np.isnan           1.0           1.0           1.0           1.0\n",
      "numexpr_isnan        7.0354        5.5323        5.4048        5.0921\n",
      "\n",
      "\n",
      "\n",
      "Matrix Set: medium\n",
      "==================\n",
      "\n",
      "Absolute Times\n",
      "--------------\n",
      "                  250x10000     500x10000    1000x10000    2000x10000\n",
      "     np.isnan    0.00073987     0.0018707     0.0036705     0.0073855\n",
      "numexpr_isnan     0.0016185     0.0028047     0.0032556     0.0049234\n",
      "\n",
      "\n",
      "Relative Times\n",
      "--------------\n",
      "                  250x10000     500x10000    1000x10000    2000x10000\n",
      "     np.isnan           1.0           1.0           1.0           1.0\n",
      "numexpr_isnan        2.1875        1.4992       0.88696       0.66664\n",
      "\n",
      "\n",
      "\n",
      "Matrix Set: big\n",
      "===============\n",
      "\n",
      "Absolute Times\n",
      "--------------\n",
      "                1000x100000   4000x100000  10000x100000\n",
      "     np.isnan      0.042363       0.16854       0.42016\n",
      "numexpr_isnan      0.024852      0.087972       0.21252\n",
      "\n",
      "\n",
      "Relative Times\n",
      "--------------\n",
      "                1000x100000   4000x100000  10000x100000\n",
      "     np.isnan           1.0           1.0           1.0\n",
      "numexpr_isnan       0.58664       0.52198        0.5058\n",
      "\n",
      "\n",
      "\n"
     ]
    }
   ],
   "source": [
    "test_npfast.tabulate_time_results(\n",
    "    isnan_results,\n",
    "    test_matrices,\n",
    "    test_npfast.isnan_functions,\n",
    ")"
   ]
  },
  {
   "cell_type": "markdown",
   "metadata": {
    "ExecuteTime": {
     "end_time": "2016-08-26T15:40:15.921767",
     "start_time": "2016-08-26T15:40:15.917916"
    }
   },
   "source": [
    "# nan_to_num"
   ]
  },
  {
   "cell_type": "code",
   "execution_count": 20,
   "metadata": {
    "ExecuteTime": {
     "end_time": "2016-08-27T04:09:37.041146",
     "start_time": "2016-08-27T03:43:29.453528"
    }
   },
   "outputs": [],
   "source": [
    "nan_to_num_results = test_npfast.compute_time_results(\n",
    "    test_matrices,\n",
    "    test_npfast.nan_to_num_functions,\n",
    ")"
   ]
  },
  {
   "cell_type": "code",
   "execution_count": 21,
   "metadata": {
    "ExecuteTime": {
     "end_time": "2016-08-27T04:09:37.056740",
     "start_time": "2016-08-27T04:09:37.051805"
    }
   },
   "outputs": [
    {
     "name": "stdout",
     "output_type": "stream",
     "text": [
      "\n",
      "Matrix Set: small\n",
      "=================\n",
      "\n",
      "Absolute Times\n",
      "--------------\n",
      "                     100x1000      200x1000      400x1000      800x1000\n",
      "  np.nan_to_num     0.0013351     0.0019182     0.0036748     0.0071314\n",
      "        numexpr    0.00077827    0.00091107     0.0010442      0.001492\n",
      "numexpr_inplace    0.00043334    0.00042697    0.00055427    0.00092661\n",
      "\n",
      "\n",
      "Relative Times\n",
      "--------------\n",
      "                     100x1000      200x1000      400x1000      800x1000\n",
      "  np.nan_to_num           1.0           1.0           1.0           1.0\n",
      "        numexpr       0.58292       0.47495       0.28415       0.20921\n",
      "numexpr_inplace       0.32457       0.22258       0.15083       0.12993\n",
      "\n",
      "\n",
      "\n",
      "Matrix Set: medium\n",
      "==================\n",
      "\n",
      "Absolute Times\n",
      "--------------\n",
      "                    250x10000     500x10000    1000x10000    2000x10000\n",
      "  np.nan_to_num      0.022043      0.047442      0.096054       0.18179\n",
      "        numexpr     0.0033472     0.0048926      0.012641      0.020989\n",
      "numexpr_inplace     0.0012488     0.0028838     0.0044437     0.0085549\n",
      "\n",
      "\n",
      "Relative Times\n",
      "--------------\n",
      "                    250x10000     500x10000    1000x10000    2000x10000\n",
      "  np.nan_to_num           1.0           1.0           1.0           1.0\n",
      "        numexpr       0.15185       0.10313        0.1316       0.11546\n",
      "numexpr_inplace       0.05665      0.060786      0.046262      0.047059\n",
      "\n",
      "\n",
      "\n",
      "Matrix Set: big\n",
      "===============\n",
      "\n",
      "Absolute Times\n",
      "--------------\n",
      "                  1000x100000   4000x100000  10000x100000\n",
      "  np.nan_to_num        0.9372        3.6531        9.0452\n",
      "        numexpr      0.078212       0.30102       0.75059\n",
      "numexpr_inplace      0.039435       0.13153       0.31236\n",
      "\n",
      "\n",
      "Relative Times\n",
      "--------------\n",
      "                  1000x100000   4000x100000  10000x100000\n",
      "  np.nan_to_num           1.0           1.0           1.0\n",
      "        numexpr      0.083453      0.082402      0.082982\n",
      "numexpr_inplace      0.042077      0.036005      0.034533\n",
      "\n",
      "\n",
      "\n"
     ]
    }
   ],
   "source": [
    "test_npfast.tabulate_time_results(\n",
    "    nan_to_num_results,\n",
    "    test_matrices,\n",
    "    test_npfast.nan_to_num_functions,\n",
    ")"
   ]
  },
  {
   "cell_type": "markdown",
   "metadata": {
    "ExecuteTime": {
     "end_time": "2016-08-26T15:40:03.190434",
     "start_time": "2016-08-26T15:40:03.187599"
    }
   },
   "source": [
    "# copy"
   ]
  },
  {
   "cell_type": "code",
   "execution_count": 22,
   "metadata": {
    "ExecuteTime": {
     "end_time": "2016-08-27T04:12:47.719242",
     "start_time": "2016-08-27T04:09:37.059420"
    },
    "collapsed": true
   },
   "outputs": [],
   "source": [
    "copy_results = test_npfast.compute_time_results(\n",
    "    test_matrices,\n",
    "    test_npfast.copy_functions,\n",
    ")"
   ]
  },
  {
   "cell_type": "code",
   "execution_count": 23,
   "metadata": {
    "ExecuteTime": {
     "end_time": "2016-08-27T04:12:47.724426",
     "start_time": "2016-08-27T04:12:47.721202"
    }
   },
   "outputs": [
    {
     "name": "stdout",
     "output_type": "stream",
     "text": [
      "\n",
      "Matrix Set: small\n",
      "=================\n",
      "\n",
      "Absolute Times\n",
      "--------------\n",
      "                  100x1000      200x1000      400x1000      800x1000\n",
      "     np.copy    0.00012497    0.00014769    0.00026432    0.00041075\n",
      "numexpr_copy    0.00039342    0.00053356    0.00061444    0.00073181\n",
      "\n",
      "\n",
      "Relative Times\n",
      "--------------\n",
      "                  100x1000      200x1000      400x1000      800x1000\n",
      "     np.copy           1.0           1.0           1.0           1.0\n",
      "numexpr_copy         3.148        3.6127        2.3246        1.7816\n",
      "\n",
      "\n",
      "\n",
      "Matrix Set: medium\n",
      "==================\n",
      "\n",
      "Absolute Times\n",
      "--------------\n",
      "                 250x10000     500x10000    1000x10000    2000x10000\n",
      "     np.copy     0.0010633     0.0026036      0.010125      0.019197\n",
      "numexpr_copy     0.0013504     0.0018839     0.0071575      0.010979\n",
      "\n",
      "\n",
      "Relative Times\n",
      "--------------\n",
      "                 250x10000     500x10000    1000x10000    2000x10000\n",
      "     np.copy           1.0           1.0           1.0           1.0\n",
      "numexpr_copy          1.27       0.72359       0.70692       0.57192\n",
      "\n",
      "\n",
      "\n",
      "Matrix Set: big\n",
      "===============\n",
      "\n",
      "Absolute Times\n",
      "--------------\n",
      "               1000x100000   4000x100000  10000x100000\n",
      "     np.copy      0.089182       0.35548       0.86961\n",
      "numexpr_copy      0.035706       0.14248       0.35612\n",
      "\n",
      "\n",
      "Relative Times\n",
      "--------------\n",
      "               1000x100000   4000x100000  10000x100000\n",
      "     np.copy           1.0           1.0           1.0\n",
      "numexpr_copy       0.40038       0.40081       0.40952\n",
      "\n",
      "\n",
      "\n"
     ]
    }
   ],
   "source": [
    "test_npfast.tabulate_time_results(\n",
    "    copy_results,\n",
    "    test_matrices,\n",
    "    test_npfast.copy_functions,\n",
    ")"
   ]
  }
 ],
 "metadata": {
  "hide_input": false,
  "kernelspec": {
   "display_name": "Python 3",
   "language": "python",
   "name": "python3"
  },
  "language_info": {
   "codemirror_mode": {
    "name": "ipython",
    "version": 3
   },
   "file_extension": ".py",
   "mimetype": "text/x-python",
   "name": "python",
   "nbconvert_exporter": "python",
   "pygments_lexer": "ipython3",
   "version": "3.6.9"
  }
 },
 "nbformat": 4,
 "nbformat_minor": 1
}
